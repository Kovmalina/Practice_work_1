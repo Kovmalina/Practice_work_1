{
 "cells": [
  {
   "cell_type": "markdown",
   "id": "75db03c3",
   "metadata": {},
   "source": [
    "## Практическая работа №1\n",
    "Этот набор данных состоит из различных списков домов в Лондоне и соседних городах.\n",
    "\n",
    "### Описание исходных данных\n",
    "\n",
    "1. Unnamed: 0. \n",
    "2. Property Name  \n",
    "3. Price\n",
    "4. House Type - Contains one of the following types of houses (House, Flat/Apartment, New Development, Duplex, Penthouse, Studio, Bungalow, Mews)\n",
    "5. Area in sq ft\n",
    "6. No. of Bedrooms\n",
    "7. No. of Bathrooms\n",
    "8. No. of Receptions\n",
    "9. Location\n",
    "10. City/County - Includes London, Essex, Middlesex, Hertfordshire, Kent, and Surrey.\n",
    "11. Postal Code\n",
    "\n",
    "Ссылка на исходный датасет: https://www.kaggle.com/datasets/arnavkulkarni/housing-prices-in-london"
   ]
  },
  {
   "cell_type": "markdown",
   "id": "f15bd339",
   "metadata": {},
   "source": [
    "Для начала импортирую все необходимые библиотеки, которые понадобятся при написании кода, и открываю файл в формате csv."
   ]
  },
  {
   "cell_type": "code",
   "execution_count": 1,
   "id": "6870578b",
   "metadata": {
    "scrolled": true
   },
   "outputs": [
    {
     "data": {
      "text/html": [
       "<div>\n",
       "<style scoped>\n",
       "    .dataframe tbody tr th:only-of-type {\n",
       "        vertical-align: middle;\n",
       "    }\n",
       "\n",
       "    .dataframe tbody tr th {\n",
       "        vertical-align: top;\n",
       "    }\n",
       "\n",
       "    .dataframe thead th {\n",
       "        text-align: right;\n",
       "    }\n",
       "</style>\n",
       "<table border=\"1\" class=\"dataframe\">\n",
       "  <thead>\n",
       "    <tr style=\"text-align: right;\">\n",
       "      <th></th>\n",
       "      <th>Unnamed: 0</th>\n",
       "      <th>Property Name</th>\n",
       "      <th>Price</th>\n",
       "      <th>House Type</th>\n",
       "      <th>Area in sq ft</th>\n",
       "      <th>No. of Bedrooms</th>\n",
       "      <th>No. of Bathrooms</th>\n",
       "      <th>No. of Receptions</th>\n",
       "      <th>Location</th>\n",
       "      <th>City/County</th>\n",
       "      <th>Postal Code</th>\n",
       "    </tr>\n",
       "  </thead>\n",
       "  <tbody>\n",
       "    <tr>\n",
       "      <th>0</th>\n",
       "      <td>0</td>\n",
       "      <td>Queens Road</td>\n",
       "      <td>1675000</td>\n",
       "      <td>House</td>\n",
       "      <td>2716</td>\n",
       "      <td>5</td>\n",
       "      <td>5</td>\n",
       "      <td>5</td>\n",
       "      <td>Wimbledon</td>\n",
       "      <td>London</td>\n",
       "      <td>SW19 8NY</td>\n",
       "    </tr>\n",
       "    <tr>\n",
       "      <th>1</th>\n",
       "      <td>1</td>\n",
       "      <td>Seward Street</td>\n",
       "      <td>650000</td>\n",
       "      <td>Flat / Apartment</td>\n",
       "      <td>814</td>\n",
       "      <td>2</td>\n",
       "      <td>2</td>\n",
       "      <td>2</td>\n",
       "      <td>Clerkenwell</td>\n",
       "      <td>London</td>\n",
       "      <td>EC1V 3PA</td>\n",
       "    </tr>\n",
       "    <tr>\n",
       "      <th>2</th>\n",
       "      <td>2</td>\n",
       "      <td>Hotham Road</td>\n",
       "      <td>735000</td>\n",
       "      <td>Flat / Apartment</td>\n",
       "      <td>761</td>\n",
       "      <td>2</td>\n",
       "      <td>2</td>\n",
       "      <td>2</td>\n",
       "      <td>Putney</td>\n",
       "      <td>London</td>\n",
       "      <td>SW15 1QL</td>\n",
       "    </tr>\n",
       "    <tr>\n",
       "      <th>3</th>\n",
       "      <td>3</td>\n",
       "      <td>Festing Road</td>\n",
       "      <td>1765000</td>\n",
       "      <td>House</td>\n",
       "      <td>1986</td>\n",
       "      <td>4</td>\n",
       "      <td>4</td>\n",
       "      <td>4</td>\n",
       "      <td>Putney</td>\n",
       "      <td>London</td>\n",
       "      <td>SW15 1LP</td>\n",
       "    </tr>\n",
       "    <tr>\n",
       "      <th>4</th>\n",
       "      <td>4</td>\n",
       "      <td>Spencer Walk</td>\n",
       "      <td>675000</td>\n",
       "      <td>Flat / Apartment</td>\n",
       "      <td>700</td>\n",
       "      <td>2</td>\n",
       "      <td>2</td>\n",
       "      <td>2</td>\n",
       "      <td>Putney</td>\n",
       "      <td>London</td>\n",
       "      <td>SW15 1PL</td>\n",
       "    </tr>\n",
       "    <tr>\n",
       "      <th>...</th>\n",
       "      <td>...</td>\n",
       "      <td>...</td>\n",
       "      <td>...</td>\n",
       "      <td>...</td>\n",
       "      <td>...</td>\n",
       "      <td>...</td>\n",
       "      <td>...</td>\n",
       "      <td>...</td>\n",
       "      <td>...</td>\n",
       "      <td>...</td>\n",
       "      <td>...</td>\n",
       "    </tr>\n",
       "    <tr>\n",
       "      <th>3475</th>\n",
       "      <td>3475</td>\n",
       "      <td>One Lillie Square</td>\n",
       "      <td>3350000</td>\n",
       "      <td>New development</td>\n",
       "      <td>1410</td>\n",
       "      <td>3</td>\n",
       "      <td>3</td>\n",
       "      <td>3</td>\n",
       "      <td>NaN</td>\n",
       "      <td>Lillie Square</td>\n",
       "      <td>SW6 1UE</td>\n",
       "    </tr>\n",
       "    <tr>\n",
       "      <th>3476</th>\n",
       "      <td>3476</td>\n",
       "      <td>St. James's Street</td>\n",
       "      <td>5275000</td>\n",
       "      <td>Flat / Apartment</td>\n",
       "      <td>1749</td>\n",
       "      <td>3</td>\n",
       "      <td>3</td>\n",
       "      <td>3</td>\n",
       "      <td>St James's</td>\n",
       "      <td>London</td>\n",
       "      <td>SW1A 1JT</td>\n",
       "    </tr>\n",
       "    <tr>\n",
       "      <th>3477</th>\n",
       "      <td>3477</td>\n",
       "      <td>Ingram Avenue</td>\n",
       "      <td>5995000</td>\n",
       "      <td>House</td>\n",
       "      <td>4435</td>\n",
       "      <td>6</td>\n",
       "      <td>6</td>\n",
       "      <td>6</td>\n",
       "      <td>Hampstead Garden Suburb</td>\n",
       "      <td>London</td>\n",
       "      <td>NW11 6TG</td>\n",
       "    </tr>\n",
       "    <tr>\n",
       "      <th>3478</th>\n",
       "      <td>3478</td>\n",
       "      <td>Cork Street</td>\n",
       "      <td>6300000</td>\n",
       "      <td>New development</td>\n",
       "      <td>1506</td>\n",
       "      <td>3</td>\n",
       "      <td>3</td>\n",
       "      <td>3</td>\n",
       "      <td>Mayfair</td>\n",
       "      <td>London</td>\n",
       "      <td>W1S 3AR</td>\n",
       "    </tr>\n",
       "    <tr>\n",
       "      <th>3479</th>\n",
       "      <td>3479</td>\n",
       "      <td>Courtenay Avenue</td>\n",
       "      <td>8650000</td>\n",
       "      <td>House</td>\n",
       "      <td>5395</td>\n",
       "      <td>6</td>\n",
       "      <td>6</td>\n",
       "      <td>6</td>\n",
       "      <td>Highgate</td>\n",
       "      <td>London</td>\n",
       "      <td>N6 4LP</td>\n",
       "    </tr>\n",
       "  </tbody>\n",
       "</table>\n",
       "<p>3480 rows × 11 columns</p>\n",
       "</div>"
      ],
      "text/plain": [
       "      Unnamed: 0       Property Name    Price        House Type  \\\n",
       "0              0         Queens Road  1675000             House   \n",
       "1              1       Seward Street   650000  Flat / Apartment   \n",
       "2              2         Hotham Road   735000  Flat / Apartment   \n",
       "3              3        Festing Road  1765000             House   \n",
       "4              4        Spencer Walk   675000  Flat / Apartment   \n",
       "...          ...                 ...      ...               ...   \n",
       "3475        3475   One Lillie Square  3350000   New development   \n",
       "3476        3476  St. James's Street  5275000  Flat / Apartment   \n",
       "3477        3477       Ingram Avenue  5995000             House   \n",
       "3478        3478         Cork Street  6300000   New development   \n",
       "3479        3479    Courtenay Avenue  8650000             House   \n",
       "\n",
       "      Area in sq ft  No. of Bedrooms  No. of Bathrooms  No. of Receptions  \\\n",
       "0              2716                5                 5                  5   \n",
       "1               814                2                 2                  2   \n",
       "2               761                2                 2                  2   \n",
       "3              1986                4                 4                  4   \n",
       "4               700                2                 2                  2   \n",
       "...             ...              ...               ...                ...   \n",
       "3475           1410                3                 3                  3   \n",
       "3476           1749                3                 3                  3   \n",
       "3477           4435                6                 6                  6   \n",
       "3478           1506                3                 3                  3   \n",
       "3479           5395                6                 6                  6   \n",
       "\n",
       "                     Location    City/County Postal Code  \n",
       "0                   Wimbledon         London    SW19 8NY  \n",
       "1                 Clerkenwell         London    EC1V 3PA  \n",
       "2                      Putney         London    SW15 1QL  \n",
       "3                      Putney         London    SW15 1LP  \n",
       "4                      Putney         London    SW15 1PL  \n",
       "...                       ...            ...         ...  \n",
       "3475                      NaN  Lillie Square     SW6 1UE  \n",
       "3476               St James's         London    SW1A 1JT  \n",
       "3477  Hampstead Garden Suburb         London    NW11 6TG  \n",
       "3478                  Mayfair         London     W1S 3AR  \n",
       "3479                 Highgate         London      N6 4LP  \n",
       "\n",
       "[3480 rows x 11 columns]"
      ]
     },
     "execution_count": 1,
     "metadata": {},
     "output_type": "execute_result"
    }
   ],
   "source": [
    "import pandas as pd\n",
    "import numpy as np\n",
    "import scipy.stats\n",
    "import matplotlib.pyplot as plt\n",
    "\n",
    "\n",
    "houses = pd.read_csv('/Users/alinakovalenko/Downloads/London.csv')\n",
    "houses"
   ]
  },
  {
   "cell_type": "markdown",
   "id": "453170f5",
   "metadata": {},
   "source": [
    "Для начала немного преобразуем датасет. Переменная Unnamed: 0 не несет новой информации, так как повторяет номер индекса, который Python присваивает строке, поэтому удаляю данную колонку из всего датасета с помощью метода drop."
   ]
  },
  {
   "cell_type": "code",
   "execution_count": 2,
   "id": "523d1465",
   "metadata": {
    "scrolled": true
   },
   "outputs": [],
   "source": [
    "houses = houses.drop('Unnamed: 0', axis = 1)"
   ]
  },
  {
   "cell_type": "code",
   "execution_count": 3,
   "id": "ba7a23a9",
   "metadata": {},
   "outputs": [
    {
     "data": {
      "text/html": [
       "<div>\n",
       "<style scoped>\n",
       "    .dataframe tbody tr th:only-of-type {\n",
       "        vertical-align: middle;\n",
       "    }\n",
       "\n",
       "    .dataframe tbody tr th {\n",
       "        vertical-align: top;\n",
       "    }\n",
       "\n",
       "    .dataframe thead th {\n",
       "        text-align: right;\n",
       "    }\n",
       "</style>\n",
       "<table border=\"1\" class=\"dataframe\">\n",
       "  <thead>\n",
       "    <tr style=\"text-align: right;\">\n",
       "      <th></th>\n",
       "      <th>Property Name</th>\n",
       "      <th>Price</th>\n",
       "      <th>House Type</th>\n",
       "      <th>Area in sq ft</th>\n",
       "      <th>No. of Bedrooms</th>\n",
       "      <th>No. of Bathrooms</th>\n",
       "      <th>No. of Receptions</th>\n",
       "      <th>Location</th>\n",
       "      <th>City/County</th>\n",
       "      <th>Postal Code</th>\n",
       "    </tr>\n",
       "  </thead>\n",
       "  <tbody>\n",
       "    <tr>\n",
       "      <th>0</th>\n",
       "      <td>Queens Road</td>\n",
       "      <td>1675000</td>\n",
       "      <td>House</td>\n",
       "      <td>2716</td>\n",
       "      <td>5</td>\n",
       "      <td>5</td>\n",
       "      <td>5</td>\n",
       "      <td>Wimbledon</td>\n",
       "      <td>London</td>\n",
       "      <td>SW19 8NY</td>\n",
       "    </tr>\n",
       "    <tr>\n",
       "      <th>1</th>\n",
       "      <td>Seward Street</td>\n",
       "      <td>650000</td>\n",
       "      <td>Flat / Apartment</td>\n",
       "      <td>814</td>\n",
       "      <td>2</td>\n",
       "      <td>2</td>\n",
       "      <td>2</td>\n",
       "      <td>Clerkenwell</td>\n",
       "      <td>London</td>\n",
       "      <td>EC1V 3PA</td>\n",
       "    </tr>\n",
       "    <tr>\n",
       "      <th>2</th>\n",
       "      <td>Hotham Road</td>\n",
       "      <td>735000</td>\n",
       "      <td>Flat / Apartment</td>\n",
       "      <td>761</td>\n",
       "      <td>2</td>\n",
       "      <td>2</td>\n",
       "      <td>2</td>\n",
       "      <td>Putney</td>\n",
       "      <td>London</td>\n",
       "      <td>SW15 1QL</td>\n",
       "    </tr>\n",
       "    <tr>\n",
       "      <th>3</th>\n",
       "      <td>Festing Road</td>\n",
       "      <td>1765000</td>\n",
       "      <td>House</td>\n",
       "      <td>1986</td>\n",
       "      <td>4</td>\n",
       "      <td>4</td>\n",
       "      <td>4</td>\n",
       "      <td>Putney</td>\n",
       "      <td>London</td>\n",
       "      <td>SW15 1LP</td>\n",
       "    </tr>\n",
       "    <tr>\n",
       "      <th>4</th>\n",
       "      <td>Spencer Walk</td>\n",
       "      <td>675000</td>\n",
       "      <td>Flat / Apartment</td>\n",
       "      <td>700</td>\n",
       "      <td>2</td>\n",
       "      <td>2</td>\n",
       "      <td>2</td>\n",
       "      <td>Putney</td>\n",
       "      <td>London</td>\n",
       "      <td>SW15 1PL</td>\n",
       "    </tr>\n",
       "    <tr>\n",
       "      <th>...</th>\n",
       "      <td>...</td>\n",
       "      <td>...</td>\n",
       "      <td>...</td>\n",
       "      <td>...</td>\n",
       "      <td>...</td>\n",
       "      <td>...</td>\n",
       "      <td>...</td>\n",
       "      <td>...</td>\n",
       "      <td>...</td>\n",
       "      <td>...</td>\n",
       "    </tr>\n",
       "    <tr>\n",
       "      <th>3475</th>\n",
       "      <td>One Lillie Square</td>\n",
       "      <td>3350000</td>\n",
       "      <td>New development</td>\n",
       "      <td>1410</td>\n",
       "      <td>3</td>\n",
       "      <td>3</td>\n",
       "      <td>3</td>\n",
       "      <td>NaN</td>\n",
       "      <td>Lillie Square</td>\n",
       "      <td>SW6 1UE</td>\n",
       "    </tr>\n",
       "    <tr>\n",
       "      <th>3476</th>\n",
       "      <td>St. James's Street</td>\n",
       "      <td>5275000</td>\n",
       "      <td>Flat / Apartment</td>\n",
       "      <td>1749</td>\n",
       "      <td>3</td>\n",
       "      <td>3</td>\n",
       "      <td>3</td>\n",
       "      <td>St James's</td>\n",
       "      <td>London</td>\n",
       "      <td>SW1A 1JT</td>\n",
       "    </tr>\n",
       "    <tr>\n",
       "      <th>3477</th>\n",
       "      <td>Ingram Avenue</td>\n",
       "      <td>5995000</td>\n",
       "      <td>House</td>\n",
       "      <td>4435</td>\n",
       "      <td>6</td>\n",
       "      <td>6</td>\n",
       "      <td>6</td>\n",
       "      <td>Hampstead Garden Suburb</td>\n",
       "      <td>London</td>\n",
       "      <td>NW11 6TG</td>\n",
       "    </tr>\n",
       "    <tr>\n",
       "      <th>3478</th>\n",
       "      <td>Cork Street</td>\n",
       "      <td>6300000</td>\n",
       "      <td>New development</td>\n",
       "      <td>1506</td>\n",
       "      <td>3</td>\n",
       "      <td>3</td>\n",
       "      <td>3</td>\n",
       "      <td>Mayfair</td>\n",
       "      <td>London</td>\n",
       "      <td>W1S 3AR</td>\n",
       "    </tr>\n",
       "    <tr>\n",
       "      <th>3479</th>\n",
       "      <td>Courtenay Avenue</td>\n",
       "      <td>8650000</td>\n",
       "      <td>House</td>\n",
       "      <td>5395</td>\n",
       "      <td>6</td>\n",
       "      <td>6</td>\n",
       "      <td>6</td>\n",
       "      <td>Highgate</td>\n",
       "      <td>London</td>\n",
       "      <td>N6 4LP</td>\n",
       "    </tr>\n",
       "  </tbody>\n",
       "</table>\n",
       "<p>3480 rows × 10 columns</p>\n",
       "</div>"
      ],
      "text/plain": [
       "           Property Name    Price        House Type  Area in sq ft  \\\n",
       "0            Queens Road  1675000             House           2716   \n",
       "1          Seward Street   650000  Flat / Apartment            814   \n",
       "2            Hotham Road   735000  Flat / Apartment            761   \n",
       "3           Festing Road  1765000             House           1986   \n",
       "4           Spencer Walk   675000  Flat / Apartment            700   \n",
       "...                  ...      ...               ...            ...   \n",
       "3475   One Lillie Square  3350000   New development           1410   \n",
       "3476  St. James's Street  5275000  Flat / Apartment           1749   \n",
       "3477       Ingram Avenue  5995000             House           4435   \n",
       "3478         Cork Street  6300000   New development           1506   \n",
       "3479    Courtenay Avenue  8650000             House           5395   \n",
       "\n",
       "      No. of Bedrooms  No. of Bathrooms  No. of Receptions  \\\n",
       "0                   5                 5                  5   \n",
       "1                   2                 2                  2   \n",
       "2                   2                 2                  2   \n",
       "3                   4                 4                  4   \n",
       "4                   2                 2                  2   \n",
       "...               ...               ...                ...   \n",
       "3475                3                 3                  3   \n",
       "3476                3                 3                  3   \n",
       "3477                6                 6                  6   \n",
       "3478                3                 3                  3   \n",
       "3479                6                 6                  6   \n",
       "\n",
       "                     Location    City/County Postal Code  \n",
       "0                   Wimbledon         London    SW19 8NY  \n",
       "1                 Clerkenwell         London    EC1V 3PA  \n",
       "2                      Putney         London    SW15 1QL  \n",
       "3                      Putney         London    SW15 1LP  \n",
       "4                      Putney         London    SW15 1PL  \n",
       "...                       ...            ...         ...  \n",
       "3475                      NaN  Lillie Square     SW6 1UE  \n",
       "3476               St James's         London    SW1A 1JT  \n",
       "3477  Hampstead Garden Suburb         London    NW11 6TG  \n",
       "3478                  Mayfair         London     W1S 3AR  \n",
       "3479                 Highgate         London      N6 4LP  \n",
       "\n",
       "[3480 rows x 10 columns]"
      ]
     },
     "execution_count": 3,
     "metadata": {},
     "output_type": "execute_result"
    }
   ],
   "source": [
    "houses"
   ]
  },
  {
   "cell_type": "markdown",
   "id": "2183adc3",
   "metadata": {},
   "source": [
    "Далее работаю с названиями переменных. Переименовываю все переменные на русский язык."
   ]
  },
  {
   "cell_type": "code",
   "execution_count": 4,
   "id": "8c73299c",
   "metadata": {},
   "outputs": [],
   "source": [
    "houses = houses.rename(columns = {'Property Name':'Улица', 'Price':'Стоимость','House Type':'Тип проживания','Area in sq ft':'Площадь в квадратных футах','No. of Bedrooms':'Количество спален', 'No. of Bathrooms':'Количество ванных','No. of Receptions':'Количество комнат для гостей','Location':'Район','City/County':'Город','Postal Code':'Почтовый индекс'})"
   ]
  },
  {
   "cell_type": "markdown",
   "id": "57fa616a",
   "metadata": {},
   "source": [
    "Далее работаю с пропущенными значениями. Выявляю, в каких переменных они есть с помощью метода isna."
   ]
  },
  {
   "cell_type": "code",
   "execution_count": 5,
   "id": "bfbf0612",
   "metadata": {
    "scrolled": true
   },
   "outputs": [
    {
     "data": {
      "text/plain": [
       "Улица                             0\n",
       "Стоимость                         0\n",
       "Тип проживания                    0\n",
       "Площадь в квадратных футах        0\n",
       "Количество спален                 0\n",
       "Количество ванных                 0\n",
       "Количество комнат для гостей      0\n",
       "Район                           962\n",
       "Город                             0\n",
       "Почтовый индекс                   0\n",
       "dtype: int64"
      ]
     },
     "execution_count": 5,
     "metadata": {},
     "output_type": "execute_result"
    }
   ],
   "source": [
    "houses.isna().sum()"
   ]
  },
  {
   "cell_type": "markdown",
   "id": "be7b0da5",
   "metadata": {},
   "source": [
    "Пропущенные значения есть в переменной \"Район\". Проверяю, могу ли я что-то сделать с данной переменной, и смотрю ее тип с помощью метода info."
   ]
  },
  {
   "cell_type": "code",
   "execution_count": 6,
   "id": "796d6fa4",
   "metadata": {},
   "outputs": [
    {
     "name": "stdout",
     "output_type": "stream",
     "text": [
      "<class 'pandas.core.frame.DataFrame'>\n",
      "RangeIndex: 3480 entries, 0 to 3479\n",
      "Data columns (total 10 columns):\n",
      " #   Column                        Non-Null Count  Dtype \n",
      "---  ------                        --------------  ----- \n",
      " 0   Улица                         3480 non-null   object\n",
      " 1   Стоимость                     3480 non-null   int64 \n",
      " 2   Тип проживания                3480 non-null   object\n",
      " 3   Площадь в квадратных футах    3480 non-null   int64 \n",
      " 4   Количество спален             3480 non-null   int64 \n",
      " 5   Количество ванных             3480 non-null   int64 \n",
      " 6   Количество комнат для гостей  3480 non-null   int64 \n",
      " 7   Район                         2518 non-null   object\n",
      " 8   Город                         3480 non-null   object\n",
      " 9   Почтовый индекс               3480 non-null   object\n",
      "dtypes: int64(5), object(5)\n",
      "memory usage: 272.0+ KB\n"
     ]
    }
   ],
   "source": [
    "houses.info()"
   ]
  },
  {
   "cell_type": "markdown",
   "id": "ab06498c",
   "metadata": {},
   "source": [
    "Поскольку тип переменной object - строка, то восставновить пропущенные значения не получится. Удаляю строчки, в которых есть пропущенные значения, с помощью метода dropna."
   ]
  },
  {
   "cell_type": "code",
   "execution_count": 7,
   "id": "54cf7b62",
   "metadata": {},
   "outputs": [],
   "source": [
    "houses = houses.dropna(subset=['Район'])"
   ]
  },
  {
   "cell_type": "code",
   "execution_count": 8,
   "id": "d71fe54f",
   "metadata": {},
   "outputs": [
    {
     "data": {
      "text/html": [
       "<div>\n",
       "<style scoped>\n",
       "    .dataframe tbody tr th:only-of-type {\n",
       "        vertical-align: middle;\n",
       "    }\n",
       "\n",
       "    .dataframe tbody tr th {\n",
       "        vertical-align: top;\n",
       "    }\n",
       "\n",
       "    .dataframe thead th {\n",
       "        text-align: right;\n",
       "    }\n",
       "</style>\n",
       "<table border=\"1\" class=\"dataframe\">\n",
       "  <thead>\n",
       "    <tr style=\"text-align: right;\">\n",
       "      <th></th>\n",
       "      <th>Улица</th>\n",
       "      <th>Стоимость</th>\n",
       "      <th>Тип проживания</th>\n",
       "      <th>Площадь в квадратных футах</th>\n",
       "      <th>Количество спален</th>\n",
       "      <th>Количество ванных</th>\n",
       "      <th>Количество комнат для гостей</th>\n",
       "      <th>Район</th>\n",
       "      <th>Город</th>\n",
       "      <th>Почтовый индекс</th>\n",
       "    </tr>\n",
       "  </thead>\n",
       "  <tbody>\n",
       "    <tr>\n",
       "      <th>0</th>\n",
       "      <td>Queens Road</td>\n",
       "      <td>1675000</td>\n",
       "      <td>House</td>\n",
       "      <td>2716</td>\n",
       "      <td>5</td>\n",
       "      <td>5</td>\n",
       "      <td>5</td>\n",
       "      <td>Wimbledon</td>\n",
       "      <td>London</td>\n",
       "      <td>SW19 8NY</td>\n",
       "    </tr>\n",
       "    <tr>\n",
       "      <th>1</th>\n",
       "      <td>Seward Street</td>\n",
       "      <td>650000</td>\n",
       "      <td>Flat / Apartment</td>\n",
       "      <td>814</td>\n",
       "      <td>2</td>\n",
       "      <td>2</td>\n",
       "      <td>2</td>\n",
       "      <td>Clerkenwell</td>\n",
       "      <td>London</td>\n",
       "      <td>EC1V 3PA</td>\n",
       "    </tr>\n",
       "    <tr>\n",
       "      <th>2</th>\n",
       "      <td>Hotham Road</td>\n",
       "      <td>735000</td>\n",
       "      <td>Flat / Apartment</td>\n",
       "      <td>761</td>\n",
       "      <td>2</td>\n",
       "      <td>2</td>\n",
       "      <td>2</td>\n",
       "      <td>Putney</td>\n",
       "      <td>London</td>\n",
       "      <td>SW15 1QL</td>\n",
       "    </tr>\n",
       "    <tr>\n",
       "      <th>3</th>\n",
       "      <td>Festing Road</td>\n",
       "      <td>1765000</td>\n",
       "      <td>House</td>\n",
       "      <td>1986</td>\n",
       "      <td>4</td>\n",
       "      <td>4</td>\n",
       "      <td>4</td>\n",
       "      <td>Putney</td>\n",
       "      <td>London</td>\n",
       "      <td>SW15 1LP</td>\n",
       "    </tr>\n",
       "    <tr>\n",
       "      <th>4</th>\n",
       "      <td>Spencer Walk</td>\n",
       "      <td>675000</td>\n",
       "      <td>Flat / Apartment</td>\n",
       "      <td>700</td>\n",
       "      <td>2</td>\n",
       "      <td>2</td>\n",
       "      <td>2</td>\n",
       "      <td>Putney</td>\n",
       "      <td>London</td>\n",
       "      <td>SW15 1PL</td>\n",
       "    </tr>\n",
       "    <tr>\n",
       "      <th>...</th>\n",
       "      <td>...</td>\n",
       "      <td>...</td>\n",
       "      <td>...</td>\n",
       "      <td>...</td>\n",
       "      <td>...</td>\n",
       "      <td>...</td>\n",
       "      <td>...</td>\n",
       "      <td>...</td>\n",
       "      <td>...</td>\n",
       "      <td>...</td>\n",
       "    </tr>\n",
       "    <tr>\n",
       "      <th>3473</th>\n",
       "      <td>Park Lane</td>\n",
       "      <td>19950000</td>\n",
       "      <td>Flat / Apartment</td>\n",
       "      <td>3698</td>\n",
       "      <td>5</td>\n",
       "      <td>5</td>\n",
       "      <td>5</td>\n",
       "      <td>Mayfair</td>\n",
       "      <td>London</td>\n",
       "      <td>W1K 7AJ</td>\n",
       "    </tr>\n",
       "    <tr>\n",
       "      <th>3476</th>\n",
       "      <td>St. James's Street</td>\n",
       "      <td>5275000</td>\n",
       "      <td>Flat / Apartment</td>\n",
       "      <td>1749</td>\n",
       "      <td>3</td>\n",
       "      <td>3</td>\n",
       "      <td>3</td>\n",
       "      <td>St James's</td>\n",
       "      <td>London</td>\n",
       "      <td>SW1A 1JT</td>\n",
       "    </tr>\n",
       "    <tr>\n",
       "      <th>3477</th>\n",
       "      <td>Ingram Avenue</td>\n",
       "      <td>5995000</td>\n",
       "      <td>House</td>\n",
       "      <td>4435</td>\n",
       "      <td>6</td>\n",
       "      <td>6</td>\n",
       "      <td>6</td>\n",
       "      <td>Hampstead Garden Suburb</td>\n",
       "      <td>London</td>\n",
       "      <td>NW11 6TG</td>\n",
       "    </tr>\n",
       "    <tr>\n",
       "      <th>3478</th>\n",
       "      <td>Cork Street</td>\n",
       "      <td>6300000</td>\n",
       "      <td>New development</td>\n",
       "      <td>1506</td>\n",
       "      <td>3</td>\n",
       "      <td>3</td>\n",
       "      <td>3</td>\n",
       "      <td>Mayfair</td>\n",
       "      <td>London</td>\n",
       "      <td>W1S 3AR</td>\n",
       "    </tr>\n",
       "    <tr>\n",
       "      <th>3479</th>\n",
       "      <td>Courtenay Avenue</td>\n",
       "      <td>8650000</td>\n",
       "      <td>House</td>\n",
       "      <td>5395</td>\n",
       "      <td>6</td>\n",
       "      <td>6</td>\n",
       "      <td>6</td>\n",
       "      <td>Highgate</td>\n",
       "      <td>London</td>\n",
       "      <td>N6 4LP</td>\n",
       "    </tr>\n",
       "  </tbody>\n",
       "</table>\n",
       "<p>2518 rows × 10 columns</p>\n",
       "</div>"
      ],
      "text/plain": [
       "                   Улица  Стоимость    Тип проживания  \\\n",
       "0            Queens Road    1675000             House   \n",
       "1          Seward Street     650000  Flat / Apartment   \n",
       "2            Hotham Road     735000  Flat / Apartment   \n",
       "3           Festing Road    1765000             House   \n",
       "4           Spencer Walk     675000  Flat / Apartment   \n",
       "...                  ...        ...               ...   \n",
       "3473           Park Lane   19950000  Flat / Apartment   \n",
       "3476  St. James's Street    5275000  Flat / Apartment   \n",
       "3477       Ingram Avenue    5995000             House   \n",
       "3478         Cork Street    6300000   New development   \n",
       "3479    Courtenay Avenue    8650000             House   \n",
       "\n",
       "      Площадь в квадратных футах  Количество спален  Количество ванных  \\\n",
       "0                           2716                  5                  5   \n",
       "1                            814                  2                  2   \n",
       "2                            761                  2                  2   \n",
       "3                           1986                  4                  4   \n",
       "4                            700                  2                  2   \n",
       "...                          ...                ...                ...   \n",
       "3473                        3698                  5                  5   \n",
       "3476                        1749                  3                  3   \n",
       "3477                        4435                  6                  6   \n",
       "3478                        1506                  3                  3   \n",
       "3479                        5395                  6                  6   \n",
       "\n",
       "      Количество комнат для гостей                    Район   Город  \\\n",
       "0                                5                Wimbledon  London   \n",
       "1                                2              Clerkenwell  London   \n",
       "2                                2                   Putney  London   \n",
       "3                                4                   Putney  London   \n",
       "4                                2                   Putney  London   \n",
       "...                            ...                      ...     ...   \n",
       "3473                             5                  Mayfair  London   \n",
       "3476                             3               St James's  London   \n",
       "3477                             6  Hampstead Garden Suburb  London   \n",
       "3478                             3                  Mayfair  London   \n",
       "3479                             6                 Highgate  London   \n",
       "\n",
       "     Почтовый индекс  \n",
       "0           SW19 8NY  \n",
       "1           EC1V 3PA  \n",
       "2           SW15 1QL  \n",
       "3           SW15 1LP  \n",
       "4           SW15 1PL  \n",
       "...              ...  \n",
       "3473         W1K 7AJ  \n",
       "3476        SW1A 1JT  \n",
       "3477        NW11 6TG  \n",
       "3478         W1S 3AR  \n",
       "3479          N6 4LP  \n",
       "\n",
       "[2518 rows x 10 columns]"
      ]
     },
     "execution_count": 8,
     "metadata": {},
     "output_type": "execute_result"
    }
   ],
   "source": [
    "houses"
   ]
  },
  {
   "cell_type": "markdown",
   "id": "264feca6",
   "metadata": {},
   "source": [
    "Допустим, я перезжаю в Лондон и хочу выбрать вариант проживания, однако не знаю, какие варианты вообще есть. Использую метод unique, чтобы посмотреть варианты."
   ]
  },
  {
   "cell_type": "code",
   "execution_count": 9,
   "id": "4e1b23b3",
   "metadata": {},
   "outputs": [
    {
     "data": {
      "text/plain": [
       "array(['House', 'Flat / Apartment', 'New development', 'Penthouse',\n",
       "       'Studio', 'Bungalow', 'Duplex', 'Mews'], dtype=object)"
      ]
     },
     "execution_count": 9,
     "metadata": {},
     "output_type": "execute_result"
    }
   ],
   "source": [
    "houses['Тип проживания'].unique() "
   ]
  },
  {
   "cell_type": "markdown",
   "id": "769049d7",
   "metadata": {},
   "source": [
    "Просмотрев варианты, определяюсь, что хочу жить в доме. Из дополнительных предпочтений - это должен быть дом, площадью более 3000 квадратных футов, и в котором будет 3 и более спален в районе Mayfair по самой дешёвой стоимости. Найду такие варианты, используя фильтрацию."
   ]
  },
  {
   "cell_type": "code",
   "execution_count": 10,
   "id": "b890b08a",
   "metadata": {
    "scrolled": true
   },
   "outputs": [
    {
     "data": {
      "text/html": [
       "<div>\n",
       "<style scoped>\n",
       "    .dataframe tbody tr th:only-of-type {\n",
       "        vertical-align: middle;\n",
       "    }\n",
       "\n",
       "    .dataframe tbody tr th {\n",
       "        vertical-align: top;\n",
       "    }\n",
       "\n",
       "    .dataframe thead th {\n",
       "        text-align: right;\n",
       "    }\n",
       "</style>\n",
       "<table border=\"1\" class=\"dataframe\">\n",
       "  <thead>\n",
       "    <tr style=\"text-align: right;\">\n",
       "      <th></th>\n",
       "      <th>Улица</th>\n",
       "      <th>Стоимость</th>\n",
       "      <th>Тип проживания</th>\n",
       "      <th>Площадь в квадратных футах</th>\n",
       "      <th>Количество спален</th>\n",
       "      <th>Количество ванных</th>\n",
       "      <th>Количество комнат для гостей</th>\n",
       "      <th>Район</th>\n",
       "      <th>Город</th>\n",
       "      <th>Почтовый индекс</th>\n",
       "    </tr>\n",
       "  </thead>\n",
       "  <tbody>\n",
       "    <tr>\n",
       "      <th>15</th>\n",
       "      <td>Chester Terrace</td>\n",
       "      <td>12500000</td>\n",
       "      <td>House</td>\n",
       "      <td>4596</td>\n",
       "      <td>6</td>\n",
       "      <td>6</td>\n",
       "      <td>6</td>\n",
       "      <td>Regents Park</td>\n",
       "      <td>London</td>\n",
       "      <td>NW1 4ND</td>\n",
       "    </tr>\n",
       "    <tr>\n",
       "      <th>21</th>\n",
       "      <td>Devonshire Close</td>\n",
       "      <td>5500000</td>\n",
       "      <td>House</td>\n",
       "      <td>3016</td>\n",
       "      <td>4</td>\n",
       "      <td>4</td>\n",
       "      <td>4</td>\n",
       "      <td>Marylebone</td>\n",
       "      <td>London</td>\n",
       "      <td>W1G 7BA</td>\n",
       "    </tr>\n",
       "    <tr>\n",
       "      <th>43</th>\n",
       "      <td>Old Battersea House</td>\n",
       "      <td>9975000</td>\n",
       "      <td>House</td>\n",
       "      <td>10100</td>\n",
       "      <td>10</td>\n",
       "      <td>10</td>\n",
       "      <td>10</td>\n",
       "      <td>Battersea</td>\n",
       "      <td>London</td>\n",
       "      <td>SW11 3LD</td>\n",
       "    </tr>\n",
       "    <tr>\n",
       "      <th>69</th>\n",
       "      <td>Queens Grove</td>\n",
       "      <td>7500000</td>\n",
       "      <td>House</td>\n",
       "      <td>3851</td>\n",
       "      <td>6</td>\n",
       "      <td>6</td>\n",
       "      <td>6</td>\n",
       "      <td>St John's Wood</td>\n",
       "      <td>London</td>\n",
       "      <td>NW8 6EN</td>\n",
       "    </tr>\n",
       "    <tr>\n",
       "      <th>95</th>\n",
       "      <td>Baronsmead Road</td>\n",
       "      <td>4000000</td>\n",
       "      <td>House</td>\n",
       "      <td>3714</td>\n",
       "      <td>5</td>\n",
       "      <td>5</td>\n",
       "      <td>5</td>\n",
       "      <td>Barnes</td>\n",
       "      <td>London</td>\n",
       "      <td>SW13 9RR</td>\n",
       "    </tr>\n",
       "    <tr>\n",
       "      <th>...</th>\n",
       "      <td>...</td>\n",
       "      <td>...</td>\n",
       "      <td>...</td>\n",
       "      <td>...</td>\n",
       "      <td>...</td>\n",
       "      <td>...</td>\n",
       "      <td>...</td>\n",
       "      <td>...</td>\n",
       "      <td>...</td>\n",
       "      <td>...</td>\n",
       "    </tr>\n",
       "    <tr>\n",
       "      <th>3461</th>\n",
       "      <td>Redington Road</td>\n",
       "      <td>6950000</td>\n",
       "      <td>House</td>\n",
       "      <td>3988</td>\n",
       "      <td>3</td>\n",
       "      <td>3</td>\n",
       "      <td>3</td>\n",
       "      <td>Hampstead</td>\n",
       "      <td>London</td>\n",
       "      <td>NW3 7RG</td>\n",
       "    </tr>\n",
       "    <tr>\n",
       "      <th>3465</th>\n",
       "      <td>Ironmonger Lane</td>\n",
       "      <td>4300000</td>\n",
       "      <td>House</td>\n",
       "      <td>3660</td>\n",
       "      <td>4</td>\n",
       "      <td>4</td>\n",
       "      <td>4</td>\n",
       "      <td>The City</td>\n",
       "      <td>London</td>\n",
       "      <td>EC2V 8EY</td>\n",
       "    </tr>\n",
       "    <tr>\n",
       "      <th>3469</th>\n",
       "      <td>Hamilton Terrace</td>\n",
       "      <td>8250000</td>\n",
       "      <td>House</td>\n",
       "      <td>3940</td>\n",
       "      <td>5</td>\n",
       "      <td>5</td>\n",
       "      <td>5</td>\n",
       "      <td>St. John's Wood</td>\n",
       "      <td>London</td>\n",
       "      <td>NW8 9RE</td>\n",
       "    </tr>\n",
       "    <tr>\n",
       "      <th>3477</th>\n",
       "      <td>Ingram Avenue</td>\n",
       "      <td>5995000</td>\n",
       "      <td>House</td>\n",
       "      <td>4435</td>\n",
       "      <td>6</td>\n",
       "      <td>6</td>\n",
       "      <td>6</td>\n",
       "      <td>Hampstead Garden Suburb</td>\n",
       "      <td>London</td>\n",
       "      <td>NW11 6TG</td>\n",
       "    </tr>\n",
       "    <tr>\n",
       "      <th>3479</th>\n",
       "      <td>Courtenay Avenue</td>\n",
       "      <td>8650000</td>\n",
       "      <td>House</td>\n",
       "      <td>5395</td>\n",
       "      <td>6</td>\n",
       "      <td>6</td>\n",
       "      <td>6</td>\n",
       "      <td>Highgate</td>\n",
       "      <td>London</td>\n",
       "      <td>N6 4LP</td>\n",
       "    </tr>\n",
       "  </tbody>\n",
       "</table>\n",
       "<p>149 rows × 10 columns</p>\n",
       "</div>"
      ],
      "text/plain": [
       "                    Улица  Стоимость Тип проживания  \\\n",
       "15        Chester Terrace   12500000          House   \n",
       "21       Devonshire Close    5500000          House   \n",
       "43    Old Battersea House    9975000          House   \n",
       "69           Queens Grove    7500000          House   \n",
       "95        Baronsmead Road    4000000          House   \n",
       "...                   ...        ...            ...   \n",
       "3461       Redington Road    6950000          House   \n",
       "3465      Ironmonger Lane    4300000          House   \n",
       "3469     Hamilton Terrace    8250000          House   \n",
       "3477        Ingram Avenue    5995000          House   \n",
       "3479     Courtenay Avenue    8650000          House   \n",
       "\n",
       "      Площадь в квадратных футах  Количество спален  Количество ванных  \\\n",
       "15                          4596                  6                  6   \n",
       "21                          3016                  4                  4   \n",
       "43                         10100                 10                 10   \n",
       "69                          3851                  6                  6   \n",
       "95                          3714                  5                  5   \n",
       "...                          ...                ...                ...   \n",
       "3461                        3988                  3                  3   \n",
       "3465                        3660                  4                  4   \n",
       "3469                        3940                  5                  5   \n",
       "3477                        4435                  6                  6   \n",
       "3479                        5395                  6                  6   \n",
       "\n",
       "      Количество комнат для гостей                    Район   Город  \\\n",
       "15                               6             Regents Park  London   \n",
       "21                               4               Marylebone  London   \n",
       "43                              10                Battersea  London   \n",
       "69                               6           St John's Wood  London   \n",
       "95                               5                   Barnes  London   \n",
       "...                            ...                      ...     ...   \n",
       "3461                             3                Hampstead  London   \n",
       "3465                             4                 The City  London   \n",
       "3469                             5          St. John's Wood  London   \n",
       "3477                             6  Hampstead Garden Suburb  London   \n",
       "3479                             6                 Highgate  London   \n",
       "\n",
       "     Почтовый индекс  \n",
       "15           NW1 4ND  \n",
       "21           W1G 7BA  \n",
       "43          SW11 3LD  \n",
       "69           NW8 6EN  \n",
       "95          SW13 9RR  \n",
       "...              ...  \n",
       "3461         NW3 7RG  \n",
       "3465        EC2V 8EY  \n",
       "3469         NW8 9RE  \n",
       "3477        NW11 6TG  \n",
       "3479          N6 4LP  \n",
       "\n",
       "[149 rows x 10 columns]"
      ]
     },
     "execution_count": 10,
     "metadata": {},
     "output_type": "execute_result"
    }
   ],
   "source": [
    "houses[(houses['Тип проживания'] == 'House') & (houses['Площадь в квадратных футах'] >= 3000) & (houses['Количество спален'] >= 3) & (houses['Город'] == 'London')]"
   ]
  },
  {
   "cell_type": "markdown",
   "id": "4b3a992d",
   "metadata": {},
   "source": [
    "Поскольку меня интересует самый дешевый вариант размешения, отсортирую данные значения по возрастанию с помощью метода sort_values. Для удобства создам новую переменную, к которой буду применять сортировку."
   ]
  },
  {
   "cell_type": "code",
   "execution_count": 11,
   "id": "9e97c5e3",
   "metadata": {},
   "outputs": [],
   "source": [
    "houses_sort = houses[(houses['Тип проживания'] == 'House') & (houses['Площадь в квадратных футах'] >= 3000) & (houses['Количество спален'] >= 3) & (houses['Город'] == 'London')]"
   ]
  },
  {
   "cell_type": "code",
   "execution_count": 12,
   "id": "f657ede7",
   "metadata": {},
   "outputs": [
    {
     "data": {
      "text/html": [
       "<div>\n",
       "<style scoped>\n",
       "    .dataframe tbody tr th:only-of-type {\n",
       "        vertical-align: middle;\n",
       "    }\n",
       "\n",
       "    .dataframe tbody tr th {\n",
       "        vertical-align: top;\n",
       "    }\n",
       "\n",
       "    .dataframe thead th {\n",
       "        text-align: right;\n",
       "    }\n",
       "</style>\n",
       "<table border=\"1\" class=\"dataframe\">\n",
       "  <thead>\n",
       "    <tr style=\"text-align: right;\">\n",
       "      <th></th>\n",
       "      <th>Улица</th>\n",
       "      <th>Стоимость</th>\n",
       "      <th>Тип проживания</th>\n",
       "      <th>Площадь в квадратных футах</th>\n",
       "      <th>Количество спален</th>\n",
       "      <th>Количество ванных</th>\n",
       "      <th>Количество комнат для гостей</th>\n",
       "      <th>Район</th>\n",
       "      <th>Город</th>\n",
       "      <th>Почтовый индекс</th>\n",
       "    </tr>\n",
       "  </thead>\n",
       "  <tbody>\n",
       "    <tr>\n",
       "      <th>1524</th>\n",
       "      <td>Werter Road</td>\n",
       "      <td>1695000</td>\n",
       "      <td>House</td>\n",
       "      <td>3235</td>\n",
       "      <td>6</td>\n",
       "      <td>6</td>\n",
       "      <td>6</td>\n",
       "      <td>Putney</td>\n",
       "      <td>London</td>\n",
       "      <td>SW15 2LJ</td>\n",
       "    </tr>\n",
       "    <tr>\n",
       "      <th>2562</th>\n",
       "      <td>Sutton Court Road</td>\n",
       "      <td>1775000</td>\n",
       "      <td>House</td>\n",
       "      <td>3143</td>\n",
       "      <td>6</td>\n",
       "      <td>6</td>\n",
       "      <td>6</td>\n",
       "      <td>Chiswick</td>\n",
       "      <td>London</td>\n",
       "      <td>W4 3EQ</td>\n",
       "    </tr>\n",
       "    <tr>\n",
       "      <th>1311</th>\n",
       "      <td>Worple Street</td>\n",
       "      <td>1800000</td>\n",
       "      <td>House</td>\n",
       "      <td>4225</td>\n",
       "      <td>5</td>\n",
       "      <td>5</td>\n",
       "      <td>5</td>\n",
       "      <td>Mortlake</td>\n",
       "      <td>London</td>\n",
       "      <td>SW14 8HE</td>\n",
       "    </tr>\n",
       "    <tr>\n",
       "      <th>888</th>\n",
       "      <td>Langside Avenue</td>\n",
       "      <td>1995000</td>\n",
       "      <td>House</td>\n",
       "      <td>3256</td>\n",
       "      <td>5</td>\n",
       "      <td>5</td>\n",
       "      <td>5</td>\n",
       "      <td>Putney</td>\n",
       "      <td>London</td>\n",
       "      <td>SW15 5QT</td>\n",
       "    </tr>\n",
       "    <tr>\n",
       "      <th>1411</th>\n",
       "      <td>Pepys Road</td>\n",
       "      <td>2295000</td>\n",
       "      <td>House</td>\n",
       "      <td>4569</td>\n",
       "      <td>5</td>\n",
       "      <td>5</td>\n",
       "      <td>5</td>\n",
       "      <td>Wimbledon</td>\n",
       "      <td>London</td>\n",
       "      <td>SW20 8NP</td>\n",
       "    </tr>\n",
       "    <tr>\n",
       "      <th>...</th>\n",
       "      <td>...</td>\n",
       "      <td>...</td>\n",
       "      <td>...</td>\n",
       "      <td>...</td>\n",
       "      <td>...</td>\n",
       "      <td>...</td>\n",
       "      <td>...</td>\n",
       "      <td>...</td>\n",
       "      <td>...</td>\n",
       "      <td>...</td>\n",
       "    </tr>\n",
       "    <tr>\n",
       "      <th>353</th>\n",
       "      <td>Upper Grosvenor Street</td>\n",
       "      <td>18000000</td>\n",
       "      <td>House</td>\n",
       "      <td>8315</td>\n",
       "      <td>7</td>\n",
       "      <td>7</td>\n",
       "      <td>7</td>\n",
       "      <td>Mayfair</td>\n",
       "      <td>London</td>\n",
       "      <td>W1K 2NP</td>\n",
       "    </tr>\n",
       "    <tr>\n",
       "      <th>3251</th>\n",
       "      <td>Harley Street</td>\n",
       "      <td>18500000</td>\n",
       "      <td>House</td>\n",
       "      <td>8603</td>\n",
       "      <td>6</td>\n",
       "      <td>6</td>\n",
       "      <td>6</td>\n",
       "      <td>Marylebone</td>\n",
       "      <td>London</td>\n",
       "      <td>W1G 6BF</td>\n",
       "    </tr>\n",
       "    <tr>\n",
       "      <th>3299</th>\n",
       "      <td>Wilton Crescent &amp;  Kinnerton Street</td>\n",
       "      <td>19000000</td>\n",
       "      <td>House</td>\n",
       "      <td>6796</td>\n",
       "      <td>7</td>\n",
       "      <td>7</td>\n",
       "      <td>7</td>\n",
       "      <td>Belgravia</td>\n",
       "      <td>London</td>\n",
       "      <td>SW1X 8RN</td>\n",
       "    </tr>\n",
       "    <tr>\n",
       "      <th>3420</th>\n",
       "      <td>Hamilton Terrace</td>\n",
       "      <td>25000000</td>\n",
       "      <td>House</td>\n",
       "      <td>12435</td>\n",
       "      <td>5</td>\n",
       "      <td>5</td>\n",
       "      <td>5</td>\n",
       "      <td>St Johns Wood</td>\n",
       "      <td>London</td>\n",
       "      <td>NW8 9UJ</td>\n",
       "    </tr>\n",
       "    <tr>\n",
       "      <th>3352</th>\n",
       "      <td>Cadogan Place</td>\n",
       "      <td>34000000</td>\n",
       "      <td>House</td>\n",
       "      <td>7798</td>\n",
       "      <td>6</td>\n",
       "      <td>6</td>\n",
       "      <td>6</td>\n",
       "      <td>Belgravia</td>\n",
       "      <td>London</td>\n",
       "      <td>SW1X 9RU</td>\n",
       "    </tr>\n",
       "  </tbody>\n",
       "</table>\n",
       "<p>149 rows × 10 columns</p>\n",
       "</div>"
      ],
      "text/plain": [
       "                                    Улица  Стоимость Тип проживания  \\\n",
       "1524                          Werter Road    1695000          House   \n",
       "2562                    Sutton Court Road    1775000          House   \n",
       "1311                        Worple Street    1800000          House   \n",
       "888                       Langside Avenue    1995000          House   \n",
       "1411                           Pepys Road    2295000          House   \n",
       "...                                   ...        ...            ...   \n",
       "353                Upper Grosvenor Street   18000000          House   \n",
       "3251                        Harley Street   18500000          House   \n",
       "3299  Wilton Crescent &  Kinnerton Street   19000000          House   \n",
       "3420                     Hamilton Terrace   25000000          House   \n",
       "3352                        Cadogan Place   34000000          House   \n",
       "\n",
       "      Площадь в квадратных футах  Количество спален  Количество ванных  \\\n",
       "1524                        3235                  6                  6   \n",
       "2562                        3143                  6                  6   \n",
       "1311                        4225                  5                  5   \n",
       "888                         3256                  5                  5   \n",
       "1411                        4569                  5                  5   \n",
       "...                          ...                ...                ...   \n",
       "353                         8315                  7                  7   \n",
       "3251                        8603                  6                  6   \n",
       "3299                        6796                  7                  7   \n",
       "3420                       12435                  5                  5   \n",
       "3352                        7798                  6                  6   \n",
       "\n",
       "      Количество комнат для гостей          Район   Город Почтовый индекс  \n",
       "1524                             6         Putney  London        SW15 2LJ  \n",
       "2562                             6       Chiswick  London          W4 3EQ  \n",
       "1311                             5       Mortlake  London        SW14 8HE  \n",
       "888                              5         Putney  London        SW15 5QT  \n",
       "1411                             5      Wimbledon  London        SW20 8NP  \n",
       "...                            ...            ...     ...             ...  \n",
       "353                              7        Mayfair  London         W1K 2NP  \n",
       "3251                             6     Marylebone  London         W1G 6BF  \n",
       "3299                             7      Belgravia  London        SW1X 8RN  \n",
       "3420                             5  St Johns Wood  London         NW8 9UJ  \n",
       "3352                             6      Belgravia  London        SW1X 9RU  \n",
       "\n",
       "[149 rows x 10 columns]"
      ]
     },
     "execution_count": 12,
     "metadata": {},
     "output_type": "execute_result"
    }
   ],
   "source": [
    "houses_sort.sort_values(by=['Стоимость'])"
   ]
  },
  {
   "cell_type": "markdown",
   "id": "9b84e65b",
   "metadata": {},
   "source": [
    "Получилось, что при заданных условиях, стоимость самого дешевого дома равна 1 695 000 фунтов."
   ]
  },
  {
   "cell_type": "markdown",
   "id": "6aaf33c5",
   "metadata": {},
   "source": [
    "Возвращаюсь к оценке всего датасета и хочу создать новую категориальную переменную на основе количественной. Запишу функцию с помощью метода def и буду считать, что стоимость на жилища в Лондоне распределяется следующим образом:"
   ]
  },
  {
   "cell_type": "code",
   "execution_count": 13,
   "id": "8e1e40f0",
   "metadata": {},
   "outputs": [],
   "source": [
    "def get_price_cat(price):\n",
    "    if price < 500000:\n",
    "        return 'Low price'\n",
    "    elif price < 1000000:\n",
    "        return 'Middle price'\n",
    "    elif price < 5000000:\n",
    "        return 'Premium price'\n",
    "    elif price >= 5000000:\n",
    "        return 'Luxury price'\n",
    "    else:\n",
    "        return price"
   ]
  },
  {
   "cell_type": "markdown",
   "id": "74eff185",
   "metadata": {},
   "source": [
    "Далее создам новую переменную \"Категориальная стоимость\" и присвою ей функцию."
   ]
  },
  {
   "cell_type": "code",
   "execution_count": 14,
   "id": "c356add0",
   "metadata": {},
   "outputs": [],
   "source": [
    "houses['Категориальная стоимость'] = houses['Стоимость'].apply(get_price_cat)"
   ]
  },
  {
   "cell_type": "markdown",
   "id": "7bc45ff1",
   "metadata": {},
   "source": [
    "Далее присвою новой переменной \"Категориальная стоимость\" тип категориальной. Category позволяет хранить и запись в строковом виде, который понятен людям, и объект, в котором все эти категории закодированы числами."
   ]
  },
  {
   "cell_type": "code",
   "execution_count": 15,
   "id": "e405da44",
   "metadata": {
    "scrolled": true
   },
   "outputs": [],
   "source": [
    "houses['Категориальная стоимость'] = pd.Categorical(houses['Категориальная стоимость'])"
   ]
  },
  {
   "cell_type": "markdown",
   "id": "b2b0c5d1",
   "metadata": {},
   "source": [
    "Вывод списка категорий:"
   ]
  },
  {
   "cell_type": "code",
   "execution_count": 16,
   "id": "c91b9162",
   "metadata": {},
   "outputs": [
    {
     "data": {
      "text/plain": [
       "Index(['Low price', 'Luxury price', 'Middle price', 'Premium price'], dtype='object')"
      ]
     },
     "execution_count": 16,
     "metadata": {},
     "output_type": "execute_result"
    }
   ],
   "source": [
    "houses['Категориальная стоимость'].cat.categories"
   ]
  },
  {
   "cell_type": "markdown",
   "id": "1da4921b",
   "metadata": {},
   "source": [
    "Теперь создам бинарную переменную, которая будет закодирована целыми числами 0 и 1. Бинарной переменной станет новая переменная \"Идельное место проживания\", которому должны подходить такие типы размещения, где общая площадь больше 5000 квадратных футов, стоимость на уровне premium price, есть более 5 спален, 5 ванных комнат и 5 комнат для гостей. Создам данную переменную с помощью функции where."
   ]
  },
  {
   "cell_type": "code",
   "execution_count": 17,
   "id": "a06ee3fd",
   "metadata": {},
   "outputs": [],
   "source": [
    "houses['Идеальное место проживания'] = np.where((houses['Категориальная стоимость'] == 'Premium price') &\n",
    "         (houses['Площадь в квадратных футах'] >= 5000) &\n",
    "         (houses['Количество спален'] >= 5) &\n",
    "         (houses['Количество ванных'] >= 5) &\n",
    "         (houses['Количество комнат для гостей'] >= 5), 1, 0)"
   ]
  },
  {
   "cell_type": "markdown",
   "id": "4fad4935",
   "metadata": {},
   "source": [
    "Посчитаем количество полученных наблюдений с помощью метода sum."
   ]
  },
  {
   "cell_type": "code",
   "execution_count": 18,
   "id": "71166792",
   "metadata": {},
   "outputs": [
    {
     "data": {
      "text/plain": [
       "46"
      ]
     },
     "execution_count": 18,
     "metadata": {},
     "output_type": "execute_result"
    }
   ],
   "source": [
    "houses['Идеальное место проживания'].sum()"
   ]
  },
  {
   "cell_type": "markdown",
   "id": "9f3dddd8",
   "metadata": {},
   "source": [
    "Далее я хочу узнать, сколько вариантов размещения есть для каждого ценового уровня. Группирую переменные с помощью groupby так, чтобы для каждого ценового уровня в ранжированном порядке показало количество типов размещения. "
   ]
  },
  {
   "cell_type": "code",
   "execution_count": 19,
   "id": "93345c83",
   "metadata": {},
   "outputs": [
    {
     "data": {
      "text/plain": [
       "Категориальная стоимость  Тип проживания  \n",
       "Low price                 Flat / Apartment    161\n",
       "                          New development      18\n",
       "                          Studio                7\n",
       "                          House                 5\n",
       "                          Penthouse             2\n",
       "Luxury price              House                65\n",
       "                          New development      30\n",
       "                          Flat / Apartment     28\n",
       "                          Penthouse            14\n",
       "Middle price              Flat / Apartment    548\n",
       "                          House               150\n",
       "                          New development     130\n",
       "                          Penthouse            17\n",
       "                          Bungalow              7\n",
       "                          Duplex                3\n",
       "Premium price             House               785\n",
       "                          Flat / Apartment    366\n",
       "                          New development     128\n",
       "                          Penthouse            49\n",
       "                          Bungalow              2\n",
       "                          Mews                  2\n",
       "                          Duplex                1\n",
       "Name: Тип проживания, dtype: int64"
      ]
     },
     "execution_count": 19,
     "metadata": {},
     "output_type": "execute_result"
    }
   ],
   "source": [
    "houses.groupby('Категориальная стоимость')['Тип проживания'].value_counts()"
   ]
  },
  {
   "cell_type": "markdown",
   "id": "88463715",
   "metadata": {},
   "source": [
    "Теперь хочу рассчитать меры центральной тенденции для площади в квадратных футах. Поскольку площадь жилого помещения значительно разнится от его типа, то я рассчитаю такие меры центральной тенденции, как среднее значение и медиана, не просто по площади в целом, а по отдельной площади для каждого типа размещения. Для этого использую метод groupby."
   ]
  },
  {
   "cell_type": "code",
   "execution_count": 20,
   "id": "7fc33fea",
   "metadata": {},
   "outputs": [
    {
     "data": {
      "text/plain": [
       "Тип проживания\n",
       "Bungalow            1711.000000\n",
       "Duplex              1211.500000\n",
       "Flat / Apartment    1027.313690\n",
       "House               2659.356219\n",
       "Mews                1280.500000\n",
       "New development     1526.009804\n",
       "Penthouse           1837.195122\n",
       "Studio               390.571429\n",
       "Name: Площадь в квадратных футах, dtype: float64"
      ]
     },
     "execution_count": 20,
     "metadata": {},
     "output_type": "execute_result"
    }
   ],
   "source": [
    "houses.groupby('Тип проживания')['Площадь в квадратных футах'].mean()"
   ]
  },
  {
   "cell_type": "code",
   "execution_count": 21,
   "id": "d7dbe0ad",
   "metadata": {},
   "outputs": [
    {
     "data": {
      "text/plain": [
       "Тип проживания\n",
       "Bungalow            1459.0\n",
       "Duplex               966.0\n",
       "Flat / Apartment     893.0\n",
       "House               2247.0\n",
       "Mews                1280.5\n",
       "New development     1002.0\n",
       "Penthouse           1557.0\n",
       "Studio               381.0\n",
       "Name: Площадь в квадратных футах, dtype: float64"
      ]
     },
     "execution_count": 21,
     "metadata": {},
     "output_type": "execute_result"
    }
   ],
   "source": [
    "houses.groupby('Тип проживания')['Площадь в квадратных футах'].median()"
   ]
  },
  {
   "cell_type": "markdown",
   "id": "0e8310f5",
   "metadata": {},
   "source": [
    "Так как значения площади значительно разбросаны, и почти невозможно высчитать моду для каждого отдельного типа проживания, то моду я считаю для всей площади в квадратных футах в целом с помощью метода value_counts."
   ]
  },
  {
   "cell_type": "code",
   "execution_count": 22,
   "id": "429a10c4",
   "metadata": {},
   "outputs": [
    {
     "data": {
      "text/plain": [
       "960      8\n",
       "1023     7\n",
       "767      6\n",
       "848      6\n",
       "693      6\n",
       "        ..\n",
       "12526    1\n",
       "1898     1\n",
       "3391     1\n",
       "655      1\n",
       "5395     1\n",
       "Name: Площадь в квадратных футах, Length: 1694, dtype: int64"
      ]
     },
     "execution_count": 22,
     "metadata": {},
     "output_type": "execute_result"
    }
   ],
   "source": [
    "houses['Площадь в квадратных футах'].value_counts()"
   ]
  },
  {
   "cell_type": "markdown",
   "id": "433d16d8",
   "metadata": {},
   "source": [
    "Следовательно, модальной площадью является значение 960 квадратных футов."
   ]
  },
  {
   "cell_type": "markdown",
   "id": "2c228ae9",
   "metadata": {},
   "source": [
    "Для наглядности мы можем посмотреть на распределение, например, среднего на графике в виде столбчатой диаграммы с помощью функции plot."
   ]
  },
  {
   "cell_type": "code",
   "execution_count": 23,
   "id": "9215f37b",
   "metadata": {},
   "outputs": [
    {
     "data": {
      "text/plain": [
       "<AxesSubplot:xlabel='Тип проживания'>"
      ]
     },
     "execution_count": 23,
     "metadata": {},
     "output_type": "execute_result"
    },
    {
     "data": {
      "image/png": "[encoded data removed]",
      "text/plain": [
       "<Figure size 432x288 with 1 Axes>"
      ]
     },
     "metadata": {
      "needs_background": "light"
     },
     "output_type": "display_data"
    }
   ],
   "source": [
    "houses.groupby('Тип проживания')['Площадь в квадратных футах'].mean().plot(kind='bar')"
   ]
  },
  {
   "cell_type": "markdown",
   "id": "7a2b99fe",
   "metadata": {},
   "source": [
    "Согласно графику, наибольшая средняя площадь наблюдается у частного дома."
   ]
  },
  {
   "cell_type": "markdown",
   "id": "4986369f",
   "metadata": {},
   "source": [
    "Также для удобства и наглядности я могу сгруппировать результаты вычислений средней и медианной площади в квадратных футах в одну таблицу с помощью метода \"Пивотальная таблица\"."
   ]
  },
  {
   "cell_type": "code",
   "execution_count": 24,
   "id": "b37b76c2",
   "metadata": {},
   "outputs": [
    {
     "data": {
      "text/html": [
       "<div>\n",
       "<style scoped>\n",
       "    .dataframe tbody tr th:only-of-type {\n",
       "        vertical-align: middle;\n",
       "    }\n",
       "\n",
       "    .dataframe tbody tr th {\n",
       "        vertical-align: top;\n",
       "    }\n",
       "\n",
       "    .dataframe thead tr th {\n",
       "        text-align: left;\n",
       "    }\n",
       "\n",
       "    .dataframe thead tr:last-of-type th {\n",
       "        text-align: right;\n",
       "    }\n",
       "</style>\n",
       "<table border=\"1\" class=\"dataframe\">\n",
       "  <thead>\n",
       "    <tr>\n",
       "      <th></th>\n",
       "      <th>mean</th>\n",
       "      <th>median</th>\n",
       "    </tr>\n",
       "    <tr>\n",
       "      <th></th>\n",
       "      <th>Площадь в квадратных футах</th>\n",
       "      <th>Площадь в квадратных футах</th>\n",
       "    </tr>\n",
       "    <tr>\n",
       "      <th>Тип проживания</th>\n",
       "      <th></th>\n",
       "      <th></th>\n",
       "    </tr>\n",
       "  </thead>\n",
       "  <tbody>\n",
       "    <tr>\n",
       "      <th>Bungalow</th>\n",
       "      <td>1711.000000</td>\n",
       "      <td>1459.0</td>\n",
       "    </tr>\n",
       "    <tr>\n",
       "      <th>Duplex</th>\n",
       "      <td>1211.500000</td>\n",
       "      <td>966.0</td>\n",
       "    </tr>\n",
       "    <tr>\n",
       "      <th>Flat / Apartment</th>\n",
       "      <td>1027.313690</td>\n",
       "      <td>893.0</td>\n",
       "    </tr>\n",
       "    <tr>\n",
       "      <th>House</th>\n",
       "      <td>2659.356219</td>\n",
       "      <td>2247.0</td>\n",
       "    </tr>\n",
       "    <tr>\n",
       "      <th>Mews</th>\n",
       "      <td>1280.500000</td>\n",
       "      <td>1280.5</td>\n",
       "    </tr>\n",
       "    <tr>\n",
       "      <th>New development</th>\n",
       "      <td>1526.009804</td>\n",
       "      <td>1002.0</td>\n",
       "    </tr>\n",
       "    <tr>\n",
       "      <th>Penthouse</th>\n",
       "      <td>1837.195122</td>\n",
       "      <td>1557.0</td>\n",
       "    </tr>\n",
       "    <tr>\n",
       "      <th>Studio</th>\n",
       "      <td>390.571429</td>\n",
       "      <td>381.0</td>\n",
       "    </tr>\n",
       "  </tbody>\n",
       "</table>\n",
       "</div>"
      ],
      "text/plain": [
       "                                       mean                     median\n",
       "                 Площадь в квадратных футах Площадь в квадратных футах\n",
       "Тип проживания                                                        \n",
       "Bungalow                        1711.000000                     1459.0\n",
       "Duplex                          1211.500000                      966.0\n",
       "Flat / Apartment                1027.313690                      893.0\n",
       "House                           2659.356219                     2247.0\n",
       "Mews                            1280.500000                     1280.5\n",
       "New development                 1526.009804                     1002.0\n",
       "Penthouse                       1837.195122                     1557.0\n",
       "Studio                           390.571429                      381.0"
      ]
     },
     "execution_count": 24,
     "metadata": {},
     "output_type": "execute_result"
    }
   ],
   "source": [
    "houses.pivot_table(index='Тип проживания', \n",
    "                  values='Площадь в квадратных футах',\n",
    "                  aggfunc=['mean', 'median'])"
   ]
  },
  {
   "cell_type": "markdown",
   "id": "b704de9a",
   "metadata": {},
   "source": [
    "Далее для той же перемннной \"Площадь в квадратных футах\" рассчитаю такие меры разброса, как размах, интерквартильный размах, дисперсия и среднеквадратичное отклонение. \n",
    "Так как данные меры для выбранной переменной также значительно отличаются от типа проживания, то буду группировать площадь по типу проживания с помощью groupby. Для наглядности сразу представлю пивотальную таблицу, в которой будут рассчитаны все перечисленные меры разброса."
   ]
  },
  {
   "cell_type": "markdown",
   "id": "be5f3688",
   "metadata": {},
   "source": [
    "Для того, чтобы посчитать размах для каждого типа размещения по площади, создам функцию с помощью def."
   ]
  },
  {
   "cell_type": "code",
   "execution_count": 25,
   "id": "a5bd062d",
   "metadata": {},
   "outputs": [],
   "source": [
    "def range_values(x):\n",
    "    return x.max() - x.min()"
   ]
  },
  {
   "cell_type": "markdown",
   "id": "4035047b",
   "metadata": {},
   "source": [
    "Создам также функцию для подсчета интерквартильного размаха."
   ]
  },
  {
   "cell_type": "code",
   "execution_count": 26,
   "id": "4aaff0af",
   "metadata": {},
   "outputs": [],
   "source": [
    "def quantile_range_values(x):\n",
    "    return x.quantile(0.75) - x.quantile(0.25) "
   ]
  },
  {
   "cell_type": "markdown",
   "id": "447a5269",
   "metadata": {},
   "source": [
    "А теперь сгруппирую все в единую пивотальную таблицу."
   ]
  },
  {
   "cell_type": "code",
   "execution_count": 27,
   "id": "f0206fd6",
   "metadata": {},
   "outputs": [
    {
     "data": {
      "text/html": [
       "<div>\n",
       "<style scoped>\n",
       "    .dataframe tbody tr th:only-of-type {\n",
       "        vertical-align: middle;\n",
       "    }\n",
       "\n",
       "    .dataframe tbody tr th {\n",
       "        vertical-align: top;\n",
       "    }\n",
       "\n",
       "    .dataframe thead tr th {\n",
       "        text-align: left;\n",
       "    }\n",
       "\n",
       "    .dataframe thead tr:last-of-type th {\n",
       "        text-align: right;\n",
       "    }\n",
       "</style>\n",
       "<table border=\"1\" class=\"dataframe\">\n",
       "  <thead>\n",
       "    <tr>\n",
       "      <th></th>\n",
       "      <th>range_values</th>\n",
       "      <th>quantile_range_values</th>\n",
       "      <th>var</th>\n",
       "      <th>std</th>\n",
       "    </tr>\n",
       "    <tr>\n",
       "      <th></th>\n",
       "      <th>Площадь в квадратных футах</th>\n",
       "      <th>Площадь в квадратных футах</th>\n",
       "      <th>Площадь в квадратных футах</th>\n",
       "      <th>Площадь в квадратных футах</th>\n",
       "    </tr>\n",
       "    <tr>\n",
       "      <th>Тип проживания</th>\n",
       "      <th></th>\n",
       "      <th></th>\n",
       "      <th></th>\n",
       "      <th></th>\n",
       "    </tr>\n",
       "  </thead>\n",
       "  <tbody>\n",
       "    <tr>\n",
       "      <th>Bungalow</th>\n",
       "      <td>2338</td>\n",
       "      <td>899.00</td>\n",
       "      <td>6.631922e+05</td>\n",
       "      <td>814.366165</td>\n",
       "    </tr>\n",
       "    <tr>\n",
       "      <th>Duplex</th>\n",
       "      <td>1134</td>\n",
       "      <td>322.50</td>\n",
       "      <td>2.951370e+05</td>\n",
       "      <td>543.265129</td>\n",
       "    </tr>\n",
       "    <tr>\n",
       "      <th>Flat / Apartment</th>\n",
       "      <td>4232</td>\n",
       "      <td>524.50</td>\n",
       "      <td>2.782226e+05</td>\n",
       "      <td>527.468148</td>\n",
       "    </tr>\n",
       "    <tr>\n",
       "      <th>House</th>\n",
       "      <td>13820</td>\n",
       "      <td>1460.00</td>\n",
       "      <td>2.721134e+06</td>\n",
       "      <td>1649.586095</td>\n",
       "    </tr>\n",
       "    <tr>\n",
       "      <th>Mews</th>\n",
       "      <td>575</td>\n",
       "      <td>287.50</td>\n",
       "      <td>1.653125e+05</td>\n",
       "      <td>406.586399</td>\n",
       "    </tr>\n",
       "    <tr>\n",
       "      <th>New development</th>\n",
       "      <td>15043</td>\n",
       "      <td>867.50</td>\n",
       "      <td>2.836082e+06</td>\n",
       "      <td>1684.066995</td>\n",
       "    </tr>\n",
       "    <tr>\n",
       "      <th>Penthouse</th>\n",
       "      <td>5003</td>\n",
       "      <td>1072.75</td>\n",
       "      <td>1.089625e+06</td>\n",
       "      <td>1043.851054</td>\n",
       "    </tr>\n",
       "    <tr>\n",
       "      <th>Studio</th>\n",
       "      <td>186</td>\n",
       "      <td>79.50</td>\n",
       "      <td>4.400619e+03</td>\n",
       "      <td>66.337162</td>\n",
       "    </tr>\n",
       "  </tbody>\n",
       "</table>\n",
       "</div>"
      ],
      "text/plain": [
       "                               range_values      quantile_range_values  \\\n",
       "                 Площадь в квадратных футах Площадь в квадратных футах   \n",
       "Тип проживания                                                           \n",
       "Bungalow                               2338                     899.00   \n",
       "Duplex                                 1134                     322.50   \n",
       "Flat / Apartment                       4232                     524.50   \n",
       "House                                 13820                    1460.00   \n",
       "Mews                                    575                     287.50   \n",
       "New development                       15043                     867.50   \n",
       "Penthouse                              5003                    1072.75   \n",
       "Studio                                  186                      79.50   \n",
       "\n",
       "                                        var                        std  \n",
       "                 Площадь в квадратных футах Площадь в квадратных футах  \n",
       "Тип проживания                                                          \n",
       "Bungalow                       6.631922e+05                 814.366165  \n",
       "Duplex                         2.951370e+05                 543.265129  \n",
       "Flat / Apartment               2.782226e+05                 527.468148  \n",
       "House                          2.721134e+06                1649.586095  \n",
       "Mews                           1.653125e+05                 406.586399  \n",
       "New development                2.836082e+06                1684.066995  \n",
       "Penthouse                      1.089625e+06                1043.851054  \n",
       "Studio                         4.400619e+03                  66.337162  "
      ]
     },
     "execution_count": 27,
     "metadata": {},
     "output_type": "execute_result"
    }
   ],
   "source": [
    "houses.pivot_table(index= 'Тип проживания', \n",
    "                  values= 'Площадь в квадратных футах',\n",
    "                  aggfunc= [range_values, quantile_range_values, 'var', 'std'])"
   ]
  },
  {
   "cell_type": "markdown",
   "id": "226c6b5e",
   "metadata": {},
   "source": [
    "В дополнение стоит также сказать, что для того, чтобы посмотреть различные показатели для количественных переменных всего датасета или его определенной выбранной части, можно воспользоваться методом describe."
   ]
  },
  {
   "cell_type": "code",
   "execution_count": 28,
   "id": "6df7a25b",
   "metadata": {},
   "outputs": [
    {
     "data": {
      "text/html": [
       "<div>\n",
       "<style scoped>\n",
       "    .dataframe tbody tr th:only-of-type {\n",
       "        vertical-align: middle;\n",
       "    }\n",
       "\n",
       "    .dataframe tbody tr th {\n",
       "        vertical-align: top;\n",
       "    }\n",
       "\n",
       "    .dataframe thead th {\n",
       "        text-align: right;\n",
       "    }\n",
       "</style>\n",
       "<table border=\"1\" class=\"dataframe\">\n",
       "  <thead>\n",
       "    <tr style=\"text-align: right;\">\n",
       "      <th></th>\n",
       "      <th>count</th>\n",
       "      <th>mean</th>\n",
       "      <th>std</th>\n",
       "      <th>min</th>\n",
       "      <th>25%</th>\n",
       "      <th>50%</th>\n",
       "      <th>75%</th>\n",
       "      <th>max</th>\n",
       "    </tr>\n",
       "    <tr>\n",
       "      <th>Тип проживания</th>\n",
       "      <th></th>\n",
       "      <th></th>\n",
       "      <th></th>\n",
       "      <th></th>\n",
       "      <th></th>\n",
       "      <th></th>\n",
       "      <th></th>\n",
       "      <th></th>\n",
       "    </tr>\n",
       "  </thead>\n",
       "  <tbody>\n",
       "    <tr>\n",
       "      <th>Bungalow</th>\n",
       "      <td>9.0</td>\n",
       "      <td>1711.000000</td>\n",
       "      <td>814.366165</td>\n",
       "      <td>583.0</td>\n",
       "      <td>1270.00</td>\n",
       "      <td>1459.0</td>\n",
       "      <td>2169.00</td>\n",
       "      <td>2921.0</td>\n",
       "    </tr>\n",
       "    <tr>\n",
       "      <th>Duplex</th>\n",
       "      <td>4.0</td>\n",
       "      <td>1211.500000</td>\n",
       "      <td>543.265129</td>\n",
       "      <td>890.0</td>\n",
       "      <td>927.50</td>\n",
       "      <td>966.0</td>\n",
       "      <td>1250.00</td>\n",
       "      <td>2024.0</td>\n",
       "    </tr>\n",
       "    <tr>\n",
       "      <th>Flat / Apartment</th>\n",
       "      <td>1103.0</td>\n",
       "      <td>1027.313690</td>\n",
       "      <td>527.468148</td>\n",
       "      <td>274.0</td>\n",
       "      <td>677.50</td>\n",
       "      <td>893.0</td>\n",
       "      <td>1202.00</td>\n",
       "      <td>4506.0</td>\n",
       "    </tr>\n",
       "    <tr>\n",
       "      <th>House</th>\n",
       "      <td>1005.0</td>\n",
       "      <td>2659.356219</td>\n",
       "      <td>1649.586095</td>\n",
       "      <td>538.0</td>\n",
       "      <td>1674.00</td>\n",
       "      <td>2247.0</td>\n",
       "      <td>3134.00</td>\n",
       "      <td>14358.0</td>\n",
       "    </tr>\n",
       "    <tr>\n",
       "      <th>Mews</th>\n",
       "      <td>2.0</td>\n",
       "      <td>1280.500000</td>\n",
       "      <td>406.586399</td>\n",
       "      <td>993.0</td>\n",
       "      <td>1136.75</td>\n",
       "      <td>1280.5</td>\n",
       "      <td>1424.25</td>\n",
       "      <td>1568.0</td>\n",
       "    </tr>\n",
       "    <tr>\n",
       "      <th>New development</th>\n",
       "      <td>306.0</td>\n",
       "      <td>1526.009804</td>\n",
       "      <td>1684.066995</td>\n",
       "      <td>362.0</td>\n",
       "      <td>756.50</td>\n",
       "      <td>1002.0</td>\n",
       "      <td>1624.00</td>\n",
       "      <td>15405.0</td>\n",
       "    </tr>\n",
       "    <tr>\n",
       "      <th>Penthouse</th>\n",
       "      <td>82.0</td>\n",
       "      <td>1837.195122</td>\n",
       "      <td>1043.851054</td>\n",
       "      <td>414.0</td>\n",
       "      <td>1152.50</td>\n",
       "      <td>1557.0</td>\n",
       "      <td>2225.25</td>\n",
       "      <td>5417.0</td>\n",
       "    </tr>\n",
       "    <tr>\n",
       "      <th>Studio</th>\n",
       "      <td>7.0</td>\n",
       "      <td>390.571429</td>\n",
       "      <td>66.337162</td>\n",
       "      <td>328.0</td>\n",
       "      <td>338.00</td>\n",
       "      <td>381.0</td>\n",
       "      <td>417.50</td>\n",
       "      <td>514.0</td>\n",
       "    </tr>\n",
       "  </tbody>\n",
       "</table>\n",
       "</div>"
      ],
      "text/plain": [
       "                   count         mean          std    min      25%     50%  \\\n",
       "Тип проживания                                                               \n",
       "Bungalow             9.0  1711.000000   814.366165  583.0  1270.00  1459.0   \n",
       "Duplex               4.0  1211.500000   543.265129  890.0   927.50   966.0   \n",
       "Flat / Apartment  1103.0  1027.313690   527.468148  274.0   677.50   893.0   \n",
       "House             1005.0  2659.356219  1649.586095  538.0  1674.00  2247.0   \n",
       "Mews                 2.0  1280.500000   406.586399  993.0  1136.75  1280.5   \n",
       "New development    306.0  1526.009804  1684.066995  362.0   756.50  1002.0   \n",
       "Penthouse           82.0  1837.195122  1043.851054  414.0  1152.50  1557.0   \n",
       "Studio               7.0   390.571429    66.337162  328.0   338.00   381.0   \n",
       "\n",
       "                      75%      max  \n",
       "Тип проживания                      \n",
       "Bungalow          2169.00   2921.0  \n",
       "Duplex            1250.00   2024.0  \n",
       "Flat / Apartment  1202.00   4506.0  \n",
       "House             3134.00  14358.0  \n",
       "Mews              1424.25   1568.0  \n",
       "New development   1624.00  15405.0  \n",
       "Penthouse         2225.25   5417.0  \n",
       "Studio             417.50    514.0  "
      ]
     },
     "execution_count": 28,
     "metadata": {},
     "output_type": "execute_result"
    }
   ],
   "source": [
    "houses.groupby('Тип проживания')['Площадь в квадратных футах'].describe()"
   ]
  },
  {
   "cell_type": "markdown",
   "id": "dd619016",
   "metadata": {},
   "source": [
    "Далее проведу z-оценку, в рамках которой проверяется на сколько среднеквадратичных отклонений отклоняется значение. Поскольку для разных типов размещения средняя площадь в квадратных футах своя, то рассчитаю z-оценку для каждого типа проживания отдельно."
   ]
  },
  {
   "cell_type": "code",
   "execution_count": 29,
   "id": "fe63be71",
   "metadata": {},
   "outputs": [],
   "source": [
    "z_score_1 = scipy.stats.zscore(houses[houses['Тип проживания'] == 'Bungalow']['Площадь в квадратных футах'])"
   ]
  },
  {
   "cell_type": "code",
   "execution_count": 30,
   "id": "6aa08008",
   "metadata": {
    "scrolled": true
   },
   "outputs": [],
   "source": [
    "z_score_2 = scipy.stats.zscore(houses[houses['Тип проживания'] == 'Duplex']['Площадь в квадратных футах'])"
   ]
  },
  {
   "cell_type": "code",
   "execution_count": 31,
   "id": "5e05fddf",
   "metadata": {},
   "outputs": [],
   "source": [
    "z_score_3 = scipy.stats.zscore(houses[houses['Тип проживания'] == 'Flat / Apartment']['Площадь в квадратных футах'])"
   ]
  },
  {
   "cell_type": "code",
   "execution_count": 32,
   "id": "9eb9e405",
   "metadata": {},
   "outputs": [],
   "source": [
    "z_score_4 = scipy.stats.zscore(houses[houses['Тип проживания'] == 'House']['Площадь в квадратных футах'])"
   ]
  },
  {
   "cell_type": "code",
   "execution_count": 33,
   "id": "916cf13a",
   "metadata": {},
   "outputs": [],
   "source": [
    "z_score_5 = scipy.stats.zscore(houses[houses['Тип проживания'] == 'Mews']['Площадь в квадратных футах'])"
   ]
  },
  {
   "cell_type": "code",
   "execution_count": 34,
   "id": "88045d04",
   "metadata": {},
   "outputs": [],
   "source": [
    "z_score_6= scipy.stats.zscore(houses[houses['Тип проживания'] == 'New development']['Площадь в квадратных футах'])"
   ]
  },
  {
   "cell_type": "code",
   "execution_count": 35,
   "id": "5d46efff",
   "metadata": {},
   "outputs": [],
   "source": [
    "z_score_7 = scipy.stats.zscore(houses[houses['Тип проживания'] == 'Penthouse']['Площадь в квадратных футах'])"
   ]
  },
  {
   "cell_type": "code",
   "execution_count": 36,
   "id": "0e212e0e",
   "metadata": {},
   "outputs": [],
   "source": [
    "z_score_8 = scipy.stats.zscore(houses[houses['Тип проживания'] == 'Studio']['Площадь в квадратных футах'])"
   ]
  },
  {
   "cell_type": "markdown",
   "id": "ec622b00",
   "metadata": {},
   "source": [
    "С помощью функции concat объединю все z-оценки по разным типам проживания в одну колонку и добавлю ее в датасет."
   ]
  },
  {
   "cell_type": "code",
   "execution_count": 37,
   "id": "135af7e2",
   "metadata": {},
   "outputs": [],
   "source": [
    "houses['z_score'] = pd.concat([z_score_1, z_score_2, z_score_3, z_score_4, z_score_5, z_score_6, z_score_7, z_score_8])"
   ]
  },
  {
   "cell_type": "markdown",
   "id": "dc9aabf5",
   "metadata": {},
   "source": [
    "Теперь проверю, если ли значения, которые являются выбросами. Согласно методу z-оценки, выбросами являются значения, которые откроняются от среднего больше, чем на 3 среднеквадратичных отклонения. Сначала проверю левую сторону:"
   ]
  },
  {
   "cell_type": "code",
   "execution_count": 38,
   "id": "bf03c90e",
   "metadata": {},
   "outputs": [
    {
     "data": {
      "text/plain": [
       "(0, 13)"
      ]
     },
     "execution_count": 38,
     "metadata": {},
     "output_type": "execute_result"
    }
   ],
   "source": [
    "houses[houses['z_score'] < -3].shape"
   ]
  },
  {
   "cell_type": "markdown",
   "id": "e7955726",
   "metadata": {},
   "source": [
    "Следовательно, с левой стороны выбросов нет. Проверяю левую сторону:"
   ]
  },
  {
   "cell_type": "code",
   "execution_count": 39,
   "id": "9577ee73",
   "metadata": {},
   "outputs": [
    {
     "data": {
      "text/plain": [
       "(51, 13)"
      ]
     },
     "execution_count": 39,
     "metadata": {},
     "output_type": "execute_result"
    }
   ],
   "source": [
    "houses[houses['z_score'] > 3].shape"
   ]
  },
  {
   "cell_type": "markdown",
   "id": "8f044aec",
   "metadata": {},
   "source": [
    "С правой стороны 51 наблюдение можно считать выбросами, поскольку отклоняется от среднего более, чем на 3 среднеквадратичных отклонения. Распределение будет смещено влево, убедимся в этом, построив график."
   ]
  },
  {
   "cell_type": "code",
   "execution_count": 40,
   "id": "fdc5a9ca",
   "metadata": {},
   "outputs": [
    {
     "data": {
      "text/plain": [
       "<AxesSubplot:>"
      ]
     },
     "execution_count": 40,
     "metadata": {},
     "output_type": "execute_result"
    },
    {
     "data": {
      "image/png": "[encoded data removed]",
      "text/plain": [
       "<Figure size 432x288 with 1 Axes>"
      ]
     },
     "metadata": {
      "needs_background": "light"
     },
     "output_type": "display_data"
    }
   ],
   "source": [
    "houses['z_score'].hist()"
   ]
  },
  {
   "cell_type": "markdown",
   "id": "c6f99c62",
   "metadata": {},
   "source": [
    "Далее найду среднюю стоимость за квадратный фут по всем типам проживания вместе. Как показала z-оценка, у переменной \"Площадь в квадратных футах\" есть значения, которые можно признать выбросами. Для того, чтобы расчет был наиболее верным, избавлюсь от выбросов в данной переменной, однако использую другой метод, сделаю это с помощью метода интерквартильного размаха. В рамках данного метода выбросом считается все то, что находится ниже первой квартили на полтора интерквартильных размаха и выше третьей квартили на полтора интерквартильных размаха."
   ]
  },
  {
   "cell_type": "code",
   "execution_count": 41,
   "id": "b8501432",
   "metadata": {},
   "outputs": [
    {
     "name": "stdout",
     "output_type": "stream",
     "text": [
      "1379.0\n"
     ]
    }
   ],
   "source": [
    "q1 = houses['Площадь в квадратных футах'].quantile(0.25)\n",
    "q3 = houses['Площадь в квадратных футах'].quantile(0.75)\n",
    "iqr = q3 - q1\n",
    "print(iqr)"
   ]
  },
  {
   "cell_type": "code",
   "execution_count": 42,
   "id": "f585d85b",
   "metadata": {},
   "outputs": [
    {
     "name": "stdout",
     "output_type": "stream",
     "text": [
      "-1228.5\n",
      "4287.5\n"
     ]
    }
   ],
   "source": [
    "iqr_threshold_bottom = q1 - 1.5 * iqr\n",
    "iqr_threshold_top = q3 + 1.5 * iqr\n",
    "print(iqr_threshold_bottom)\n",
    "print(iqr_threshold_top)"
   ]
  },
  {
   "cell_type": "markdown",
   "id": "a95e2b89",
   "metadata": {},
   "source": [
    "Слева выбросов нет, распределение смещенное, найду выбросы справа:"
   ]
  },
  {
   "cell_type": "code",
   "execution_count": 43,
   "id": "63bab520",
   "metadata": {},
   "outputs": [
    {
     "data": {
      "text/plain": [
       "(132, 13)"
      ]
     },
     "execution_count": 43,
     "metadata": {},
     "output_type": "execute_result"
    }
   ],
   "source": [
    "houses[houses['Площадь в квадратных футах'] > iqr_threshold_top].shape"
   ]
  },
  {
   "cell_type": "markdown",
   "id": "30d8d207",
   "metadata": {},
   "source": [
    "А теперь создам версию датасета без выбросов, которые были обнаружены при примении метода интерквартильного размаха."
   ]
  },
  {
   "cell_type": "code",
   "execution_count": 44,
   "id": "58290ee4",
   "metadata": {},
   "outputs": [
    {
     "data": {
      "text/html": [
       "<div>\n",
       "<style scoped>\n",
       "    .dataframe tbody tr th:only-of-type {\n",
       "        vertical-align: middle;\n",
       "    }\n",
       "\n",
       "    .dataframe tbody tr th {\n",
       "        vertical-align: top;\n",
       "    }\n",
       "\n",
       "    .dataframe thead th {\n",
       "        text-align: right;\n",
       "    }\n",
       "</style>\n",
       "<table border=\"1\" class=\"dataframe\">\n",
       "  <thead>\n",
       "    <tr style=\"text-align: right;\">\n",
       "      <th></th>\n",
       "      <th>Улица</th>\n",
       "      <th>Стоимость</th>\n",
       "      <th>Тип проживания</th>\n",
       "      <th>Площадь в квадратных футах</th>\n",
       "      <th>Количество спален</th>\n",
       "      <th>Количество ванных</th>\n",
       "      <th>Количество комнат для гостей</th>\n",
       "      <th>Район</th>\n",
       "      <th>Город</th>\n",
       "      <th>Почтовый индекс</th>\n",
       "      <th>Категориальная стоимость</th>\n",
       "      <th>Идеальное место проживания</th>\n",
       "      <th>z_score</th>\n",
       "    </tr>\n",
       "  </thead>\n",
       "  <tbody>\n",
       "    <tr>\n",
       "      <th>0</th>\n",
       "      <td>Queens Road</td>\n",
       "      <td>1675000</td>\n",
       "      <td>House</td>\n",
       "      <td>2716</td>\n",
       "      <td>5</td>\n",
       "      <td>5</td>\n",
       "      <td>5</td>\n",
       "      <td>Wimbledon</td>\n",
       "      <td>London</td>\n",
       "      <td>SW19 8NY</td>\n",
       "      <td>Premium price</td>\n",
       "      <td>0</td>\n",
       "      <td>0.034355</td>\n",
       "    </tr>\n",
       "    <tr>\n",
       "      <th>1</th>\n",
       "      <td>Seward Street</td>\n",
       "      <td>650000</td>\n",
       "      <td>Flat / Apartment</td>\n",
       "      <td>814</td>\n",
       "      <td>2</td>\n",
       "      <td>2</td>\n",
       "      <td>2</td>\n",
       "      <td>Clerkenwell</td>\n",
       "      <td>London</td>\n",
       "      <td>EC1V 3PA</td>\n",
       "      <td>Middle price</td>\n",
       "      <td>0</td>\n",
       "      <td>-0.404594</td>\n",
       "    </tr>\n",
       "    <tr>\n",
       "      <th>2</th>\n",
       "      <td>Hotham Road</td>\n",
       "      <td>735000</td>\n",
       "      <td>Flat / Apartment</td>\n",
       "      <td>761</td>\n",
       "      <td>2</td>\n",
       "      <td>2</td>\n",
       "      <td>2</td>\n",
       "      <td>Putney</td>\n",
       "      <td>London</td>\n",
       "      <td>SW15 1QL</td>\n",
       "      <td>Middle price</td>\n",
       "      <td>0</td>\n",
       "      <td>-0.505120</td>\n",
       "    </tr>\n",
       "    <tr>\n",
       "      <th>3</th>\n",
       "      <td>Festing Road</td>\n",
       "      <td>1765000</td>\n",
       "      <td>House</td>\n",
       "      <td>1986</td>\n",
       "      <td>4</td>\n",
       "      <td>4</td>\n",
       "      <td>4</td>\n",
       "      <td>Putney</td>\n",
       "      <td>London</td>\n",
       "      <td>SW15 1LP</td>\n",
       "      <td>Premium price</td>\n",
       "      <td>0</td>\n",
       "      <td>-0.408400</td>\n",
       "    </tr>\n",
       "    <tr>\n",
       "      <th>4</th>\n",
       "      <td>Spencer Walk</td>\n",
       "      <td>675000</td>\n",
       "      <td>Flat / Apartment</td>\n",
       "      <td>700</td>\n",
       "      <td>2</td>\n",
       "      <td>2</td>\n",
       "      <td>2</td>\n",
       "      <td>Putney</td>\n",
       "      <td>London</td>\n",
       "      <td>SW15 1PL</td>\n",
       "      <td>Middle price</td>\n",
       "      <td>0</td>\n",
       "      <td>-0.620819</td>\n",
       "    </tr>\n",
       "    <tr>\n",
       "      <th>...</th>\n",
       "      <td>...</td>\n",
       "      <td>...</td>\n",
       "      <td>...</td>\n",
       "      <td>...</td>\n",
       "      <td>...</td>\n",
       "      <td>...</td>\n",
       "      <td>...</td>\n",
       "      <td>...</td>\n",
       "      <td>...</td>\n",
       "      <td>...</td>\n",
       "      <td>...</td>\n",
       "      <td>...</td>\n",
       "      <td>...</td>\n",
       "    </tr>\n",
       "    <tr>\n",
       "      <th>3471</th>\n",
       "      <td>Herbert Crescent</td>\n",
       "      <td>4950000</td>\n",
       "      <td>Flat / Apartment</td>\n",
       "      <td>1581</td>\n",
       "      <td>3</td>\n",
       "      <td>3</td>\n",
       "      <td>3</td>\n",
       "      <td>Chelsea</td>\n",
       "      <td>London</td>\n",
       "      <td>SW1X 0HB</td>\n",
       "      <td>Premium price</td>\n",
       "      <td>0</td>\n",
       "      <td>1.050182</td>\n",
       "    </tr>\n",
       "    <tr>\n",
       "      <th>3472</th>\n",
       "      <td>Chelsea Crescent</td>\n",
       "      <td>1750000</td>\n",
       "      <td>Flat / Apartment</td>\n",
       "      <td>1553</td>\n",
       "      <td>2</td>\n",
       "      <td>2</td>\n",
       "      <td>2</td>\n",
       "      <td>Chelsea</td>\n",
       "      <td>London</td>\n",
       "      <td>SW10 0XB</td>\n",
       "      <td>Premium price</td>\n",
       "      <td>0</td>\n",
       "      <td>0.997074</td>\n",
       "    </tr>\n",
       "    <tr>\n",
       "      <th>3473</th>\n",
       "      <td>Park Lane</td>\n",
       "      <td>19950000</td>\n",
       "      <td>Flat / Apartment</td>\n",
       "      <td>3698</td>\n",
       "      <td>5</td>\n",
       "      <td>5</td>\n",
       "      <td>5</td>\n",
       "      <td>Mayfair</td>\n",
       "      <td>London</td>\n",
       "      <td>W1K 7AJ</td>\n",
       "      <td>Luxury price</td>\n",
       "      <td>0</td>\n",
       "      <td>5.065515</td>\n",
       "    </tr>\n",
       "    <tr>\n",
       "      <th>3476</th>\n",
       "      <td>St. James's Street</td>\n",
       "      <td>5275000</td>\n",
       "      <td>Flat / Apartment</td>\n",
       "      <td>1749</td>\n",
       "      <td>3</td>\n",
       "      <td>3</td>\n",
       "      <td>3</td>\n",
       "      <td>St James's</td>\n",
       "      <td>London</td>\n",
       "      <td>SW1A 1JT</td>\n",
       "      <td>Luxury price</td>\n",
       "      <td>0</td>\n",
       "      <td>1.368829</td>\n",
       "    </tr>\n",
       "    <tr>\n",
       "      <th>3478</th>\n",
       "      <td>Cork Street</td>\n",
       "      <td>6300000</td>\n",
       "      <td>New development</td>\n",
       "      <td>1506</td>\n",
       "      <td>3</td>\n",
       "      <td>3</td>\n",
       "      <td>3</td>\n",
       "      <td>Mayfair</td>\n",
       "      <td>London</td>\n",
       "      <td>W1S 3AR</td>\n",
       "      <td>Luxury price</td>\n",
       "      <td>0</td>\n",
       "      <td>-0.011901</td>\n",
       "    </tr>\n",
       "  </tbody>\n",
       "</table>\n",
       "<p>2386 rows × 13 columns</p>\n",
       "</div>"
      ],
      "text/plain": [
       "                   Улица  Стоимость    Тип проживания  \\\n",
       "0            Queens Road    1675000             House   \n",
       "1          Seward Street     650000  Flat / Apartment   \n",
       "2            Hotham Road     735000  Flat / Apartment   \n",
       "3           Festing Road    1765000             House   \n",
       "4           Spencer Walk     675000  Flat / Apartment   \n",
       "...                  ...        ...               ...   \n",
       "3471    Herbert Crescent    4950000  Flat / Apartment   \n",
       "3472    Chelsea Crescent    1750000  Flat / Apartment   \n",
       "3473           Park Lane   19950000  Flat / Apartment   \n",
       "3476  St. James's Street    5275000  Flat / Apartment   \n",
       "3478         Cork Street    6300000   New development   \n",
       "\n",
       "      Площадь в квадратных футах  Количество спален  Количество ванных  \\\n",
       "0                           2716                  5                  5   \n",
       "1                            814                  2                  2   \n",
       "2                            761                  2                  2   \n",
       "3                           1986                  4                  4   \n",
       "4                            700                  2                  2   \n",
       "...                          ...                ...                ...   \n",
       "3471                        1581                  3                  3   \n",
       "3472                        1553                  2                  2   \n",
       "3473                        3698                  5                  5   \n",
       "3476                        1749                  3                  3   \n",
       "3478                        1506                  3                  3   \n",
       "\n",
       "      Количество комнат для гостей        Район   Город Почтовый индекс  \\\n",
       "0                                5    Wimbledon  London        SW19 8NY   \n",
       "1                                2  Clerkenwell  London        EC1V 3PA   \n",
       "2                                2       Putney  London        SW15 1QL   \n",
       "3                                4       Putney  London        SW15 1LP   \n",
       "4                                2       Putney  London        SW15 1PL   \n",
       "...                            ...          ...     ...             ...   \n",
       "3471                             3      Chelsea  London        SW1X 0HB   \n",
       "3472                             2      Chelsea  London        SW10 0XB   \n",
       "3473                             5      Mayfair  London         W1K 7AJ   \n",
       "3476                             3   St James's  London        SW1A 1JT   \n",
       "3478                             3      Mayfair  London         W1S 3AR   \n",
       "\n",
       "     Категориальная стоимость  Идеальное место проживания   z_score  \n",
       "0               Premium price                           0  0.034355  \n",
       "1                Middle price                           0 -0.404594  \n",
       "2                Middle price                           0 -0.505120  \n",
       "3               Premium price                           0 -0.408400  \n",
       "4                Middle price                           0 -0.620819  \n",
       "...                       ...                         ...       ...  \n",
       "3471            Premium price                           0  1.050182  \n",
       "3472            Premium price                           0  0.997074  \n",
       "3473             Luxury price                           0  5.065515  \n",
       "3476             Luxury price                           0  1.368829  \n",
       "3478             Luxury price                           0 -0.011901  \n",
       "\n",
       "[2386 rows x 13 columns]"
      ]
     },
     "execution_count": 44,
     "metadata": {},
     "output_type": "execute_result"
    }
   ],
   "source": [
    "iqr_houses_no_outliers = houses[houses['Площадь в квадратных футах'] <= iqr_threshold_top]\n",
    "iqr_houses_no_outliers"
   ]
  },
  {
   "cell_type": "markdown",
   "id": "1cc685d5",
   "metadata": {},
   "source": [
    "А теперь рассчитаю среднюю стоимость за один квадратный фут в целом по всем вариантам размещения в Лондоне и других городах Англии."
   ]
  },
  {
   "cell_type": "code",
   "execution_count": 45,
   "id": "2cc1b8ff",
   "metadata": {},
   "outputs": [
    {
     "name": "stdout",
     "output_type": "stream",
     "text": [
      "Средняя стоимость за один квадратный фут равна 1072 фунтов\n"
     ]
    }
   ],
   "source": [
    "iqr_houses_no_outliers['Стоимость'].sum()\n",
    "iqr_houses_no_outliers['Площадь в квадратных футах'].sum()\n",
    "mean_value = iqr_houses_no_outliers['Стоимость'].sum()/iqr_houses_no_outliers['Площадь в квадратных футах'].sum()\n",
    "print('Средняя стоимость за один квадратный фут равна', round(mean_value), 'фунтов')"
   ]
  },
  {
   "cell_type": "markdown",
   "id": "415e7c64",
   "metadata": {},
   "source": [
    "Однако от выбросов можно избавиться еще одним методом - с помощью среднеквадратичного отклонения. Посмотрим, насколько будет отличаться средняя стоимость за один квадратный фут, если убрать выбросы данным методом."
   ]
  },
  {
   "cell_type": "code",
   "execution_count": 46,
   "id": "ec3800f4",
   "metadata": {},
   "outputs": [
    {
     "name": "stdout",
     "output_type": "stream",
     "text": [
      "-1906.8748847892753\n",
      "5440.575440786099\n"
     ]
    }
   ],
   "source": [
    "mean = houses['Площадь в квадратных футах'].mean() \n",
    "std = houses['Площадь в квадратных футах'].std()\n",
    "std_threshold_bottom = mean - 2.5 * std\n",
    "std_threshold_top = mean + 2.5 * std\n",
    "print(std_threshold_bottom)\n",
    "print(std_threshold_top) "
   ]
  },
  {
   "cell_type": "markdown",
   "id": "58fcb7b9",
   "metadata": {},
   "source": [
    "Слева выбросов нет, распределение смещенное, найду выбросы справа:"
   ]
  },
  {
   "cell_type": "code",
   "execution_count": 47,
   "id": "ccb0ec86",
   "metadata": {},
   "outputs": [
    {
     "data": {
      "text/plain": [
       "(62, 13)"
      ]
     },
     "execution_count": 47,
     "metadata": {},
     "output_type": "execute_result"
    }
   ],
   "source": [
    "houses[houses['Площадь в квадратных футах'] > std_threshold_top].shape"
   ]
  },
  {
   "cell_type": "markdown",
   "id": "31a97456",
   "metadata": {},
   "source": [
    "А теперь создам версию датасета без выбросов, которые были обнаружены при примении метода среднеквадратичного отклонения."
   ]
  },
  {
   "cell_type": "code",
   "execution_count": 48,
   "id": "c2485c05",
   "metadata": {},
   "outputs": [
    {
     "data": {
      "text/html": [
       "<div>\n",
       "<style scoped>\n",
       "    .dataframe tbody tr th:only-of-type {\n",
       "        vertical-align: middle;\n",
       "    }\n",
       "\n",
       "    .dataframe tbody tr th {\n",
       "        vertical-align: top;\n",
       "    }\n",
       "\n",
       "    .dataframe thead th {\n",
       "        text-align: right;\n",
       "    }\n",
       "</style>\n",
       "<table border=\"1\" class=\"dataframe\">\n",
       "  <thead>\n",
       "    <tr style=\"text-align: right;\">\n",
       "      <th></th>\n",
       "      <th>Улица</th>\n",
       "      <th>Стоимость</th>\n",
       "      <th>Тип проживания</th>\n",
       "      <th>Площадь в квадратных футах</th>\n",
       "      <th>Количество спален</th>\n",
       "      <th>Количество ванных</th>\n",
       "      <th>Количество комнат для гостей</th>\n",
       "      <th>Район</th>\n",
       "      <th>Город</th>\n",
       "      <th>Почтовый индекс</th>\n",
       "      <th>Категориальная стоимость</th>\n",
       "      <th>Идеальное место проживания</th>\n",
       "      <th>z_score</th>\n",
       "    </tr>\n",
       "  </thead>\n",
       "  <tbody>\n",
       "    <tr>\n",
       "      <th>0</th>\n",
       "      <td>Queens Road</td>\n",
       "      <td>1675000</td>\n",
       "      <td>House</td>\n",
       "      <td>2716</td>\n",
       "      <td>5</td>\n",
       "      <td>5</td>\n",
       "      <td>5</td>\n",
       "      <td>Wimbledon</td>\n",
       "      <td>London</td>\n",
       "      <td>SW19 8NY</td>\n",
       "      <td>Premium price</td>\n",
       "      <td>0</td>\n",
       "      <td>0.034355</td>\n",
       "    </tr>\n",
       "    <tr>\n",
       "      <th>1</th>\n",
       "      <td>Seward Street</td>\n",
       "      <td>650000</td>\n",
       "      <td>Flat / Apartment</td>\n",
       "      <td>814</td>\n",
       "      <td>2</td>\n",
       "      <td>2</td>\n",
       "      <td>2</td>\n",
       "      <td>Clerkenwell</td>\n",
       "      <td>London</td>\n",
       "      <td>EC1V 3PA</td>\n",
       "      <td>Middle price</td>\n",
       "      <td>0</td>\n",
       "      <td>-0.404594</td>\n",
       "    </tr>\n",
       "    <tr>\n",
       "      <th>2</th>\n",
       "      <td>Hotham Road</td>\n",
       "      <td>735000</td>\n",
       "      <td>Flat / Apartment</td>\n",
       "      <td>761</td>\n",
       "      <td>2</td>\n",
       "      <td>2</td>\n",
       "      <td>2</td>\n",
       "      <td>Putney</td>\n",
       "      <td>London</td>\n",
       "      <td>SW15 1QL</td>\n",
       "      <td>Middle price</td>\n",
       "      <td>0</td>\n",
       "      <td>-0.505120</td>\n",
       "    </tr>\n",
       "    <tr>\n",
       "      <th>3</th>\n",
       "      <td>Festing Road</td>\n",
       "      <td>1765000</td>\n",
       "      <td>House</td>\n",
       "      <td>1986</td>\n",
       "      <td>4</td>\n",
       "      <td>4</td>\n",
       "      <td>4</td>\n",
       "      <td>Putney</td>\n",
       "      <td>London</td>\n",
       "      <td>SW15 1LP</td>\n",
       "      <td>Premium price</td>\n",
       "      <td>0</td>\n",
       "      <td>-0.408400</td>\n",
       "    </tr>\n",
       "    <tr>\n",
       "      <th>4</th>\n",
       "      <td>Spencer Walk</td>\n",
       "      <td>675000</td>\n",
       "      <td>Flat / Apartment</td>\n",
       "      <td>700</td>\n",
       "      <td>2</td>\n",
       "      <td>2</td>\n",
       "      <td>2</td>\n",
       "      <td>Putney</td>\n",
       "      <td>London</td>\n",
       "      <td>SW15 1PL</td>\n",
       "      <td>Middle price</td>\n",
       "      <td>0</td>\n",
       "      <td>-0.620819</td>\n",
       "    </tr>\n",
       "    <tr>\n",
       "      <th>...</th>\n",
       "      <td>...</td>\n",
       "      <td>...</td>\n",
       "      <td>...</td>\n",
       "      <td>...</td>\n",
       "      <td>...</td>\n",
       "      <td>...</td>\n",
       "      <td>...</td>\n",
       "      <td>...</td>\n",
       "      <td>...</td>\n",
       "      <td>...</td>\n",
       "      <td>...</td>\n",
       "      <td>...</td>\n",
       "      <td>...</td>\n",
       "    </tr>\n",
       "    <tr>\n",
       "      <th>3473</th>\n",
       "      <td>Park Lane</td>\n",
       "      <td>19950000</td>\n",
       "      <td>Flat / Apartment</td>\n",
       "      <td>3698</td>\n",
       "      <td>5</td>\n",
       "      <td>5</td>\n",
       "      <td>5</td>\n",
       "      <td>Mayfair</td>\n",
       "      <td>London</td>\n",
       "      <td>W1K 7AJ</td>\n",
       "      <td>Luxury price</td>\n",
       "      <td>0</td>\n",
       "      <td>5.065515</td>\n",
       "    </tr>\n",
       "    <tr>\n",
       "      <th>3476</th>\n",
       "      <td>St. James's Street</td>\n",
       "      <td>5275000</td>\n",
       "      <td>Flat / Apartment</td>\n",
       "      <td>1749</td>\n",
       "      <td>3</td>\n",
       "      <td>3</td>\n",
       "      <td>3</td>\n",
       "      <td>St James's</td>\n",
       "      <td>London</td>\n",
       "      <td>SW1A 1JT</td>\n",
       "      <td>Luxury price</td>\n",
       "      <td>0</td>\n",
       "      <td>1.368829</td>\n",
       "    </tr>\n",
       "    <tr>\n",
       "      <th>3477</th>\n",
       "      <td>Ingram Avenue</td>\n",
       "      <td>5995000</td>\n",
       "      <td>House</td>\n",
       "      <td>4435</td>\n",
       "      <td>6</td>\n",
       "      <td>6</td>\n",
       "      <td>6</td>\n",
       "      <td>Hampstead Garden Suburb</td>\n",
       "      <td>London</td>\n",
       "      <td>NW11 6TG</td>\n",
       "      <td>Luxury price</td>\n",
       "      <td>0</td>\n",
       "      <td>1.076954</td>\n",
       "    </tr>\n",
       "    <tr>\n",
       "      <th>3478</th>\n",
       "      <td>Cork Street</td>\n",
       "      <td>6300000</td>\n",
       "      <td>New development</td>\n",
       "      <td>1506</td>\n",
       "      <td>3</td>\n",
       "      <td>3</td>\n",
       "      <td>3</td>\n",
       "      <td>Mayfair</td>\n",
       "      <td>London</td>\n",
       "      <td>W1S 3AR</td>\n",
       "      <td>Luxury price</td>\n",
       "      <td>0</td>\n",
       "      <td>-0.011901</td>\n",
       "    </tr>\n",
       "    <tr>\n",
       "      <th>3479</th>\n",
       "      <td>Courtenay Avenue</td>\n",
       "      <td>8650000</td>\n",
       "      <td>House</td>\n",
       "      <td>5395</td>\n",
       "      <td>6</td>\n",
       "      <td>6</td>\n",
       "      <td>6</td>\n",
       "      <td>Highgate</td>\n",
       "      <td>London</td>\n",
       "      <td>N6 4LP</td>\n",
       "      <td>Luxury price</td>\n",
       "      <td>0</td>\n",
       "      <td>1.659208</td>\n",
       "    </tr>\n",
       "  </tbody>\n",
       "</table>\n",
       "<p>2456 rows × 13 columns</p>\n",
       "</div>"
      ],
      "text/plain": [
       "                   Улица  Стоимость    Тип проживания  \\\n",
       "0            Queens Road    1675000             House   \n",
       "1          Seward Street     650000  Flat / Apartment   \n",
       "2            Hotham Road     735000  Flat / Apartment   \n",
       "3           Festing Road    1765000             House   \n",
       "4           Spencer Walk     675000  Flat / Apartment   \n",
       "...                  ...        ...               ...   \n",
       "3473           Park Lane   19950000  Flat / Apartment   \n",
       "3476  St. James's Street    5275000  Flat / Apartment   \n",
       "3477       Ingram Avenue    5995000             House   \n",
       "3478         Cork Street    6300000   New development   \n",
       "3479    Courtenay Avenue    8650000             House   \n",
       "\n",
       "      Площадь в квадратных футах  Количество спален  Количество ванных  \\\n",
       "0                           2716                  5                  5   \n",
       "1                            814                  2                  2   \n",
       "2                            761                  2                  2   \n",
       "3                           1986                  4                  4   \n",
       "4                            700                  2                  2   \n",
       "...                          ...                ...                ...   \n",
       "3473                        3698                  5                  5   \n",
       "3476                        1749                  3                  3   \n",
       "3477                        4435                  6                  6   \n",
       "3478                        1506                  3                  3   \n",
       "3479                        5395                  6                  6   \n",
       "\n",
       "      Количество комнат для гостей                    Район   Город  \\\n",
       "0                                5                Wimbledon  London   \n",
       "1                                2              Clerkenwell  London   \n",
       "2                                2                   Putney  London   \n",
       "3                                4                   Putney  London   \n",
       "4                                2                   Putney  London   \n",
       "...                            ...                      ...     ...   \n",
       "3473                             5                  Mayfair  London   \n",
       "3476                             3               St James's  London   \n",
       "3477                             6  Hampstead Garden Suburb  London   \n",
       "3478                             3                  Mayfair  London   \n",
       "3479                             6                 Highgate  London   \n",
       "\n",
       "     Почтовый индекс Категориальная стоимость  Идеальное место проживания  \\\n",
       "0           SW19 8NY            Premium price                           0   \n",
       "1           EC1V 3PA             Middle price                           0   \n",
       "2           SW15 1QL             Middle price                           0   \n",
       "3           SW15 1LP            Premium price                           0   \n",
       "4           SW15 1PL             Middle price                           0   \n",
       "...              ...                      ...                         ...   \n",
       "3473         W1K 7AJ             Luxury price                           0   \n",
       "3476        SW1A 1JT             Luxury price                           0   \n",
       "3477        NW11 6TG             Luxury price                           0   \n",
       "3478         W1S 3AR             Luxury price                           0   \n",
       "3479          N6 4LP             Luxury price                           0   \n",
       "\n",
       "       z_score  \n",
       "0     0.034355  \n",
       "1    -0.404594  \n",
       "2    -0.505120  \n",
       "3    -0.408400  \n",
       "4    -0.620819  \n",
       "...        ...  \n",
       "3473  5.065515  \n",
       "3476  1.368829  \n",
       "3477  1.076954  \n",
       "3478 -0.011901  \n",
       "3479  1.659208  \n",
       "\n",
       "[2456 rows x 13 columns]"
      ]
     },
     "execution_count": 48,
     "metadata": {},
     "output_type": "execute_result"
    }
   ],
   "source": [
    "std_houses_no_outliers = houses[houses['Площадь в квадратных футах'] <= std_threshold_top]\n",
    "std_houses_no_outliers"
   ]
  },
  {
   "cell_type": "markdown",
   "id": "128de854",
   "metadata": {},
   "source": [
    "А теперь рассчитаю среднюю стоимость за один квадратный фут другим методом в целом по всем вариантам размещения в Лондоне и других городах Англии."
   ]
  },
  {
   "cell_type": "code",
   "execution_count": 49,
   "id": "aeb6c1c4",
   "metadata": {},
   "outputs": [
    {
     "name": "stdout",
     "output_type": "stream",
     "text": [
      "Средняя стоимость за один квадратный фут равна 1067 фунтов\n"
     ]
    }
   ],
   "source": [
    "std_houses_no_outliers['Стоимость'].sum()\n",
    "std_houses_no_outliers['Площадь в квадратных футах'].sum()\n",
    "mean_value_2 = std_houses_no_outliers['Стоимость'].sum()/std_houses_no_outliers['Площадь в квадратных футах'].sum()\n",
    "print('Средняя стоимость за один квадратный фут равна', round(mean_value_2), 'фунтов')"
   ]
  },
  {
   "cell_type": "markdown",
   "id": "0a9f9045",
   "metadata": {},
   "source": [
    "Согласно методу интерквартильного размаха, средняя стоимость за один квадратный фут равна 1072 фунтов. Согласно методу среднеквадратичного отклонения, средняя стоимость за один квадратный фут равна 1067 фунтов. Поскольку данные значения сильно сближены, за единую стоимость за квадратный фут хочу взять их среднее арифметическое."
   ]
  },
  {
   "cell_type": "code",
   "execution_count": 50,
   "id": "6a9aaec4",
   "metadata": {},
   "outputs": [
    {
     "name": "stdout",
     "output_type": "stream",
     "text": [
      "Средняя стоимость за один квадратный фут равна 1070 фунтов\n"
     ]
    }
   ],
   "source": [
    "mean_value_3 = (mean_value+mean_value_2)/2\n",
    "print('Средняя стоимость за один квадратный фут равна', round(mean_value_3), 'фунтов')"
   ]
  },
  {
   "cell_type": "markdown",
   "id": "8afbb316",
   "metadata": {},
   "source": [
    "Далее хочу рассчитать корреляцию между переменными \"Стоимость\" и \"Площадь в квадратных футах\". Для этого агрегирую датасет по этим двум переменным по типу проживания."
   ]
  },
  {
   "cell_type": "code",
   "execution_count": 51,
   "id": "77d7aea6",
   "metadata": {},
   "outputs": [],
   "source": [
    "value_mean = houses.groupby('Тип проживания')['Стоимость'].mean()"
   ]
  },
  {
   "cell_type": "code",
   "execution_count": 52,
   "id": "fca0cc24",
   "metadata": {},
   "outputs": [],
   "source": [
    "area_mean = houses.groupby('Тип проживания')['Площадь в квадратных футах'].mean()"
   ]
  },
  {
   "cell_type": "markdown",
   "id": "928c7790",
   "metadata": {},
   "source": [
    "С помощью функции Concat создаю новый датафрейм с заданными переменными."
   ]
  },
  {
   "cell_type": "code",
   "execution_count": 53,
   "id": "62e3e8cb",
   "metadata": {},
   "outputs": [
    {
     "data": {
      "text/html": [
       "<div>\n",
       "<style scoped>\n",
       "    .dataframe tbody tr th:only-of-type {\n",
       "        vertical-align: middle;\n",
       "    }\n",
       "\n",
       "    .dataframe tbody tr th {\n",
       "        vertical-align: top;\n",
       "    }\n",
       "\n",
       "    .dataframe thead th {\n",
       "        text-align: right;\n",
       "    }\n",
       "</style>\n",
       "<table border=\"1\" class=\"dataframe\">\n",
       "  <thead>\n",
       "    <tr style=\"text-align: right;\">\n",
       "      <th></th>\n",
       "      <th>Стоимость</th>\n",
       "      <th>Площадь в квадратных футах</th>\n",
       "    </tr>\n",
       "    <tr>\n",
       "      <th>Тип проживания</th>\n",
       "      <th></th>\n",
       "      <th></th>\n",
       "    </tr>\n",
       "  </thead>\n",
       "  <tbody>\n",
       "    <tr>\n",
       "      <th>Bungalow</th>\n",
       "      <td>9.044444e+05</td>\n",
       "      <td>1711.000000</td>\n",
       "    </tr>\n",
       "    <tr>\n",
       "      <th>Duplex</th>\n",
       "      <td>9.100000e+05</td>\n",
       "      <td>1211.500000</td>\n",
       "    </tr>\n",
       "    <tr>\n",
       "      <th>Flat / Apartment</th>\n",
       "      <td>1.239112e+06</td>\n",
       "      <td>1027.313690</td>\n",
       "    </tr>\n",
       "    <tr>\n",
       "      <th>House</th>\n",
       "      <td>2.410133e+06</td>\n",
       "      <td>2659.356219</td>\n",
       "    </tr>\n",
       "    <tr>\n",
       "      <th>Mews</th>\n",
       "      <td>1.400000e+06</td>\n",
       "      <td>1280.500000</td>\n",
       "    </tr>\n",
       "    <tr>\n",
       "      <th>New development</th>\n",
       "      <td>2.187552e+06</td>\n",
       "      <td>1526.009804</td>\n",
       "    </tr>\n",
       "    <tr>\n",
       "      <th>Penthouse</th>\n",
       "      <td>3.080546e+06</td>\n",
       "      <td>1837.195122</td>\n",
       "    </tr>\n",
       "    <tr>\n",
       "      <th>Studio</th>\n",
       "      <td>3.492857e+05</td>\n",
       "      <td>390.571429</td>\n",
       "    </tr>\n",
       "  </tbody>\n",
       "</table>\n",
       "</div>"
      ],
      "text/plain": [
       "                     Стоимость  Площадь в квадратных футах\n",
       "Тип проживания                                            \n",
       "Bungalow          9.044444e+05                 1711.000000\n",
       "Duplex            9.100000e+05                 1211.500000\n",
       "Flat / Apartment  1.239112e+06                 1027.313690\n",
       "House             2.410133e+06                 2659.356219\n",
       "Mews              1.400000e+06                 1280.500000\n",
       "New development   2.187552e+06                 1526.009804\n",
       "Penthouse         3.080546e+06                 1837.195122\n",
       "Studio            3.492857e+05                  390.571429"
      ]
     },
     "execution_count": 53,
     "metadata": {},
     "output_type": "execute_result"
    }
   ],
   "source": [
    "houses_mean = pd.concat([value_mean, area_mean], axis=1)\n",
    "houses_mean"
   ]
  },
  {
   "cell_type": "markdown",
   "id": "4fc0ab58",
   "metadata": {},
   "source": [
    "С помощью функции Corr считают коэффициент корреляции между переменными \"Стоимость\" и \"Площадь в квадратных футах\"."
   ]
  },
  {
   "cell_type": "code",
   "execution_count": 54,
   "id": "69ceb426",
   "metadata": {},
   "outputs": [
    {
     "data": {
      "text/html": [
       "<div>\n",
       "<style scoped>\n",
       "    .dataframe tbody tr th:only-of-type {\n",
       "        vertical-align: middle;\n",
       "    }\n",
       "\n",
       "    .dataframe tbody tr th {\n",
       "        vertical-align: top;\n",
       "    }\n",
       "\n",
       "    .dataframe thead th {\n",
       "        text-align: right;\n",
       "    }\n",
       "</style>\n",
       "<table border=\"1\" class=\"dataframe\">\n",
       "  <thead>\n",
       "    <tr style=\"text-align: right;\">\n",
       "      <th></th>\n",
       "      <th>Стоимость</th>\n",
       "      <th>Площадь в квадратных футах</th>\n",
       "    </tr>\n",
       "  </thead>\n",
       "  <tbody>\n",
       "    <tr>\n",
       "      <th>Стоимость</th>\n",
       "      <td>1.000000</td>\n",
       "      <td>0.728159</td>\n",
       "    </tr>\n",
       "    <tr>\n",
       "      <th>Площадь в квадратных футах</th>\n",
       "      <td>0.728159</td>\n",
       "      <td>1.000000</td>\n",
       "    </tr>\n",
       "  </tbody>\n",
       "</table>\n",
       "</div>"
      ],
      "text/plain": [
       "                            Стоимость  Площадь в квадратных футах\n",
       "Стоимость                    1.000000                    0.728159\n",
       "Площадь в квадратных футах   0.728159                    1.000000"
      ]
     },
     "execution_count": 54,
     "metadata": {},
     "output_type": "execute_result"
    }
   ],
   "source": [
    "houses_mean.corr()"
   ]
  },
  {
   "cell_type": "markdown",
   "id": "dd97b508",
   "metadata": {},
   "source": [
    "Так как коэффициент составляет 0.728, можно говорить о прямой высокой связи между переменными."
   ]
  },
  {
   "cell_type": "markdown",
   "id": "c5154252",
   "metadata": {},
   "source": [
    "А теперь визуализирую некоторые количественные данные, которые у меня есть. Сгруппирую по типу проживания площадь мест проживания и найду средние значения площади для каждого места проживания."
   ]
  },
  {
   "cell_type": "code",
   "execution_count": 55,
   "id": "50441e0f",
   "metadata": {},
   "outputs": [
    {
     "data": {
      "text/plain": [
       "Тип проживания\n",
       "Bungalow            1711.000000\n",
       "Duplex              1211.500000\n",
       "Flat / Apartment    1027.313690\n",
       "House               2659.356219\n",
       "Mews                1280.500000\n",
       "New development     1526.009804\n",
       "Penthouse           1837.195122\n",
       "Studio               390.571429\n",
       "Name: Площадь в квадратных футах, dtype: float64"
      ]
     },
     "execution_count": 55,
     "metadata": {},
     "output_type": "execute_result"
    }
   ],
   "source": [
    "houses_area_mean = houses.groupby('Тип проживания')['Площадь в квадратных футах'].mean()\n",
    "houses_area_mean"
   ]
  },
  {
   "cell_type": "markdown",
   "id": "49db7e18",
   "metadata": {},
   "source": [
    "Отоброжу их на графике."
   ]
  },
  {
   "cell_type": "code",
   "execution_count": 56,
   "id": "619c9259",
   "metadata": {},
   "outputs": [
    {
     "data": {
      "text/plain": [
       "Text(0.5, 0.98, 'Средняя площадь в квадратных футах разных типов проживания')"
      ]
     },
     "execution_count": 56,
     "metadata": {},
     "output_type": "execute_result"
    },
    {
     "data": {
      "image/png": "[encoded data removed]",
      "text/plain": [
       "<Figure size 1008x504 with 1 Axes>"
      ]
     },
     "metadata": {
      "needs_background": "light"
     },
     "output_type": "display_data"
    }
   ],
   "source": [
    "fig, ax = plt.subplots(figsize=(14,7))\n",
    "ax.bar(houses_area_mean.index,houses_area_mean, color = 'm')\n",
    "ax.legend(['Тип проживания'], frameon=False, loc=2)\n",
    "fig.suptitle('Средняя площадь в квадратных футах разных типов проживания', fontsize=20)"
   ]
  },
  {
   "cell_type": "markdown",
   "id": "36247c8d",
   "metadata": {},
   "source": [
    "Согласно графику, нибольшая средняя площадь у частных домов, а наименьшая - у студий."
   ]
  },
  {
   "cell_type": "markdown",
   "id": "d89943b1",
   "metadata": {},
   "source": [
    "Далее создам график рассеяния, на котором посторою зависисмость средней стоимости за место продивание и средней площади места проживания. Предварительно сгруппирую переменные \"Плошадь в квадратных футах\" и \"Стоимость\" по переменной \"Тип проживания\" и найду среднее."
   ]
  },
  {
   "cell_type": "code",
   "execution_count": 57,
   "id": "d9804b98",
   "metadata": {},
   "outputs": [],
   "source": [
    "houses_area_mean = houses.groupby('Тип проживания')['Площадь в квадратных футах'].mean()"
   ]
  },
  {
   "cell_type": "code",
   "execution_count": 58,
   "id": "c34481e9",
   "metadata": {},
   "outputs": [],
   "source": [
    "houses_value_mean = houses.groupby('Тип проживания')['Стоимость'].mean()"
   ]
  },
  {
   "cell_type": "markdown",
   "id": "00b0b1b2",
   "metadata": {},
   "source": [
    "Переменная \"Идеальное место проживания\" будет отвечать за цвет точки."
   ]
  },
  {
   "cell_type": "code",
   "execution_count": 59,
   "id": "b0dfe5ae",
   "metadata": {},
   "outputs": [],
   "source": [
    "houses_ideal_max = houses.groupby('Тип проживания')['Идеальное место проживания'].max()"
   ]
  },
  {
   "cell_type": "code",
   "execution_count": 60,
   "id": "31b95acb",
   "metadata": {},
   "outputs": [],
   "source": [
    "houses_date = pd.concat([houses_area_mean, houses_value_mean, houses_ideal_max], axis=1)"
   ]
  },
  {
   "cell_type": "code",
   "execution_count": 61,
   "id": "7aecfaaf",
   "metadata": {},
   "outputs": [
    {
     "data": {
      "text/html": [
       "<div>\n",
       "<style scoped>\n",
       "    .dataframe tbody tr th:only-of-type {\n",
       "        vertical-align: middle;\n",
       "    }\n",
       "\n",
       "    .dataframe tbody tr th {\n",
       "        vertical-align: top;\n",
       "    }\n",
       "\n",
       "    .dataframe thead th {\n",
       "        text-align: right;\n",
       "    }\n",
       "</style>\n",
       "<table border=\"1\" class=\"dataframe\">\n",
       "  <thead>\n",
       "    <tr style=\"text-align: right;\">\n",
       "      <th></th>\n",
       "      <th>Площадь в квадратных футах</th>\n",
       "      <th>Стоимость</th>\n",
       "      <th>Идеальное место проживания</th>\n",
       "    </tr>\n",
       "    <tr>\n",
       "      <th>Тип проживания</th>\n",
       "      <th></th>\n",
       "      <th></th>\n",
       "      <th></th>\n",
       "    </tr>\n",
       "  </thead>\n",
       "  <tbody>\n",
       "    <tr>\n",
       "      <th>Bungalow</th>\n",
       "      <td>1711.000000</td>\n",
       "      <td>9.044444e+05</td>\n",
       "      <td>0</td>\n",
       "    </tr>\n",
       "    <tr>\n",
       "      <th>Duplex</th>\n",
       "      <td>1211.500000</td>\n",
       "      <td>9.100000e+05</td>\n",
       "      <td>0</td>\n",
       "    </tr>\n",
       "    <tr>\n",
       "      <th>Flat / Apartment</th>\n",
       "      <td>1027.313690</td>\n",
       "      <td>1.239112e+06</td>\n",
       "      <td>0</td>\n",
       "    </tr>\n",
       "    <tr>\n",
       "      <th>House</th>\n",
       "      <td>2659.356219</td>\n",
       "      <td>2.410133e+06</td>\n",
       "      <td>1</td>\n",
       "    </tr>\n",
       "    <tr>\n",
       "      <th>Mews</th>\n",
       "      <td>1280.500000</td>\n",
       "      <td>1.400000e+06</td>\n",
       "      <td>0</td>\n",
       "    </tr>\n",
       "    <tr>\n",
       "      <th>New development</th>\n",
       "      <td>1526.009804</td>\n",
       "      <td>2.187552e+06</td>\n",
       "      <td>1</td>\n",
       "    </tr>\n",
       "    <tr>\n",
       "      <th>Penthouse</th>\n",
       "      <td>1837.195122</td>\n",
       "      <td>3.080546e+06</td>\n",
       "      <td>0</td>\n",
       "    </tr>\n",
       "    <tr>\n",
       "      <th>Studio</th>\n",
       "      <td>390.571429</td>\n",
       "      <td>3.492857e+05</td>\n",
       "      <td>0</td>\n",
       "    </tr>\n",
       "  </tbody>\n",
       "</table>\n",
       "</div>"
      ],
      "text/plain": [
       "                  Площадь в квадратных футах     Стоимость  \\\n",
       "Тип проживания                                               \n",
       "Bungalow                         1711.000000  9.044444e+05   \n",
       "Duplex                           1211.500000  9.100000e+05   \n",
       "Flat / Apartment                 1027.313690  1.239112e+06   \n",
       "House                            2659.356219  2.410133e+06   \n",
       "Mews                             1280.500000  1.400000e+06   \n",
       "New development                  1526.009804  2.187552e+06   \n",
       "Penthouse                        1837.195122  3.080546e+06   \n",
       "Studio                            390.571429  3.492857e+05   \n",
       "\n",
       "                  Идеальное место проживания  \n",
       "Тип проживания                                \n",
       "Bungalow                                   0  \n",
       "Duplex                                     0  \n",
       "Flat / Apartment                           0  \n",
       "House                                      1  \n",
       "Mews                                       0  \n",
       "New development                            1  \n",
       "Penthouse                                  0  \n",
       "Studio                                     0  "
      ]
     },
     "execution_count": 61,
     "metadata": {},
     "output_type": "execute_result"
    }
   ],
   "source": [
    "houses_date"
   ]
  },
  {
   "cell_type": "code",
   "execution_count": 69,
   "id": "fa71df9f",
   "metadata": {},
   "outputs": [
    {
     "data": {
      "text/plain": [
       "Text(0, 0.5, 'Стоимость')"
      ]
     },
     "execution_count": 69,
     "metadata": {},
     "output_type": "execute_result"
    },
    {
     "data": {
      "image/png": "[encoded data removed]",
      "text/plain": [
       "<Figure size 1008x576 with 2 Axes>"
      ]
     },
     "metadata": {
      "needs_background": "light"
     },
     "output_type": "display_data"
    }
   ],
   "source": [
    "fig, ax = plt.subplots(figsize=(14,8))\n",
    "graph = ax.scatter(houses_date['Площадь в квадратных футах'], houses_date['Стоимость'], \n",
    "           c = houses_date['Идеальное место проживания'], \n",
    "           alpha = 0.7)\n",
    "plt.colorbar(graph, ticks=range(2), label='Идеальное место проживания')\n",
    "ax.set_title('Зависимость средней стоимости места проживания и средней площади места проживания', fontsize=14)\n",
    "ax.spines['right'].set_visible(False)\n",
    "ax.spines['top'].set_visible(False)\n",
    "ax.spines['right'].set_visible(False)\n",
    "ax.spines['top'].set_visible(False)\n",
    "ax.spines['left'].set_linewidth(0.2)\n",
    "ax.spines['bottom'].set_linewidth(0.2)\n",
    "ax.set_xlabel('Площадь в квадратных футах', fontsize=10)\n",
    "ax.set_ylabel('Стоимость', fontsize=10)"
   ]
  },
  {
   "cell_type": "markdown",
   "id": "a3733b45",
   "metadata": {},
   "source": [
    "Таким образом, согласно графику, чем больше средняя площадь места проживания, тем выше средняя стоимость за место проживания. Также можно сказать, что чем больше площадь и выше стоимость, тем скорее всего место проживание будет считаться идеальным местом для проживания.  "
   ]
  },
  {
   "cell_type": "code",
   "execution_count": null,
   "id": "8e786c8e",
   "metadata": {},
   "outputs": [],
   "source": []
  }
 ],
 "metadata": {
  "kernelspec": {
   "display_name": "Python 3 (ipykernel)",
   "language": "python",
   "name": "python3"
  },
  "language_info": {
   "codemirror_mode": {
    "name": "ipython",
    "version": 3
   },
   "file_extension": ".py",
   "mimetype": "text/x-python",
   "name": "python",
   "nbconvert_exporter": "python",
   "pygments_lexer": "ipython3",
   "version": "3.9.12"
  }
 },
 "nbformat": 4,
 "nbformat_minor": 5
}
